{
  "cells": [
    {
      "cell_type": "code",
      "execution_count": null,
      "metadata": {
        "colab": {
          "base_uri": "https://localhost:8080/",
          "height": 34
        },
        "colab_type": "code",
        "id": "1LWT3AufOyCv",
        "outputId": "6e1a57a4-604e-4d8e-cd48-f4e7b9f560de"
      },
      "outputs": [
        {
          "name": "stdout",
          "output_type": "stream",
          "text": [
            "Drive already mounted at /content/drive; to attempt to forcibly remount, call drive.mount(\"/content/drive\", force_remount=True).\n"
          ]
        }
      ],
      "source": [
        "from google.colab import drive\n",
        "drive.mount('/content/drive')"
      ]
    },
    {
      "cell_type": "code",
      "execution_count": 31,
      "metadata": {
        "colab": {},
        "colab_type": "code",
        "id": "VZWf5RDrO8Ta"
      },
      "outputs": [],
      "source": [
        "import pandas as pd\n",
        "import numpy as np"
      ]
    },
    {
      "cell_type": "code",
      "execution_count": 32,
      "metadata": {
        "colab": {
          "base_uri": "https://localhost:8080/",
          "height": 170
        },
        "colab_type": "code",
        "id": "5JBkWhfnQQDt",
        "outputId": "8d719b31-f9b8-4904-9d16-4c69e1fd9027"
      },
      "outputs": [
        {
          "name": "stdout",
          "output_type": "stream",
          "text": [
            "data loaded in 0.05395197868347168ms\n",
            "   Unnamed: 0    0           1          2          3          4          5  \\\n",
            "0        2642  0.0 -450.444153  31.821642 -36.853058   3.524392  -5.175694   \n",
            "1        3392  0.0 -305.174255  40.323029  -9.351065  31.671879 -17.789635   \n",
            "2        7977  0.0 -546.611389  89.431557  30.264193  22.876518  10.881158   \n",
            "3        7485  0.0 -460.262665  97.096466  21.472469 -12.220604  -6.570318   \n",
            "4        2913  0.0 -567.392944  77.169067 -19.185984  12.959229   9.280185   \n",
            "\n",
            "           6          7          8  ...         32         33         34  \\\n",
            "0 -15.189813  -9.737331  -9.731072  ...   4.388540  -2.914866  -4.391418   \n",
            "1   2.409657 -11.379353 -11.372132  ...   5.941274  -0.823913   0.157705   \n",
            "2  17.330706 -11.609023  -2.967377  ...  13.264074  10.730732  12.294745   \n",
            "3   5.980837  -7.818426   2.122841  ...   2.945964   1.446232   2.478948   \n",
            "4  -0.218544  -7.754282  -7.311463  ...   2.998896   2.279885   2.827719   \n",
            "\n",
            "          35        36         37         38         39         40  emotion  \n",
            "0  -0.663335  2.753592   3.120635   2.143424   5.637012   5.422133    happy  \n",
            "1   4.493000  6.421078   4.747250   1.111671   0.141147   1.492082    happy  \n",
            "2  11.119441  6.119955  12.689579  15.245275  11.891915  10.649779      sad  \n",
            "3   8.573885  3.943496  10.725519   8.223263  10.164463   8.534730  disgust  \n",
            "4   0.580373 -1.955027   1.925156   8.694457  13.051445  16.307001      sad  \n",
            "\n",
            "[5 rows x 43 columns]\n"
          ]
        }
      ],
      "source": [
        "import time\n",
        "\n",
        "starting_time = time.time()\n",
        "data = pd.read_csv('RAVTESS_MFCC_Observed.csv')\n",
        "print(\"data loaded in \" + str(time.time()-starting_time) + \"ms\")\n",
        "\n",
        "print(data.head())"
      ]
    },
    {
      "cell_type": "code",
      "execution_count": 33,
      "metadata": {
        "colab": {
          "base_uri": "https://localhost:8080/",
          "height": 34
        },
        "colab_type": "code",
        "id": "Gnn24ErtQXIM",
        "outputId": "710ff011-0a32-4050-e7d5-fb9fd820e34e"
      },
      "outputs": [
        {
          "data": {
            "text/plain": [
              "(8052, 43)"
            ]
          },
          "execution_count": 33,
          "metadata": {},
          "output_type": "execute_result"
        }
      ],
      "source": [
        "data.shape"
      ]
    },
    {
      "cell_type": "code",
      "execution_count": 34,
      "metadata": {
        "colab": {
          "base_uri": "https://localhost:8080/",
          "height": 102
        },
        "colab_type": "code",
        "id": "6UlGjAhtlhl2",
        "outputId": "5146eb7a-e950-416c-d28e-412f40cb7313"
      },
      "outputs": [
        {
          "data": {
            "text/plain": [
              "Index(['Unnamed: 0', '0', '1', '2', '3', '4', '5', '6', '7', '8', '9', '10',\n",
              "       '11', '12', '13', '14', '15', '16', '17', '18', '19', '20', '21', '22',\n",
              "       '23', '24', '25', '26', '27', '28', '29', '30', '31', '32', '33', '34',\n",
              "       '35', '36', '37', '38', '39', '40', 'emotion'],\n",
              "      dtype='object')"
            ]
          },
          "execution_count": 34,
          "metadata": {},
          "output_type": "execute_result"
        }
      ],
      "source": [
        "#printing all columns\n",
        "data.columns"
      ]
    },
    {
      "cell_type": "code",
      "execution_count": 35,
      "metadata": {
        "colab": {},
        "colab_type": "code",
        "id": "7T9PgDj1luY1"
      },
      "outputs": [],
      "source": [
        "#dropping the column Unnamed: 0 to removed shuffled index\n",
        "data = data.drop('Unnamed: 0',axis=1)"
      ]
    },
    {
      "cell_type": "code",
      "execution_count": 36,
      "metadata": {
        "colab": {
          "base_uri": "https://localhost:8080/",
          "height": 102
        },
        "colab_type": "code",
        "id": "9XYzHT00l1vu",
        "outputId": "b0b2da96-31af-430b-cc33-6038c9348681"
      },
      "outputs": [
        {
          "data": {
            "text/plain": [
              "Index(['0', '1', '2', '3', '4', '5', '6', '7', '8', '9', '10', '11', '12',\n",
              "       '13', '14', '15', '16', '17', '18', '19', '20', '21', '22', '23', '24',\n",
              "       '25', '26', '27', '28', '29', '30', '31', '32', '33', '34', '35', '36',\n",
              "       '37', '38', '39', '40', 'emotion'],\n",
              "      dtype='object')"
            ]
          },
          "execution_count": 36,
          "metadata": {},
          "output_type": "execute_result"
        }
      ],
      "source": [
        "data.columns"
      ]
    },
    {
      "cell_type": "code",
      "execution_count": 37,
      "metadata": {
        "colab": {},
        "colab_type": "code",
        "id": "dFz_djRCj8-7"
      },
      "outputs": [],
      "source": [
        "#separating features and target outputs\n",
        "X = data.drop('emotion', axis = 1).values\n",
        "y = data['emotion'].values"
      ]
    },
    {
      "cell_type": "markdown",
      "metadata": {
        "colab_type": "text",
        "id": "gmyFS7Ajj4PZ"
      },
      "source": [
        "## SVM\n",
        "\n",
        "Implementing SVM with Scikit-Learn\n"
      ]
    },
    {
      "cell_type": "code",
      "execution_count": 38,
      "metadata": {},
      "outputs": [
        {
          "name": "stdout",
          "output_type": "stream",
          "text": [
            "Defaulting to user installation because normal site-packages is not writeable\n",
            "Requirement already satisfied: matplotlib in /Users/truonghoangthuan/Library/Python/3.9/lib/python/site-packages (3.6.0)\n",
            "Requirement already satisfied: cycler>=0.10 in /Users/truonghoangthuan/Library/Python/3.9/lib/python/site-packages (from matplotlib) (0.11.0)\n",
            "Requirement already satisfied: pillow>=6.2.0 in /Users/truonghoangthuan/Library/Python/3.9/lib/python/site-packages (from matplotlib) (9.2.0)\n",
            "Requirement already satisfied: numpy>=1.19 in /Users/truonghoangthuan/Library/Python/3.9/lib/python/site-packages (from matplotlib) (1.23.4)\n",
            "Requirement already satisfied: python-dateutil>=2.7 in /Users/truonghoangthuan/Library/Python/3.9/lib/python/site-packages (from matplotlib) (2.8.2)\n",
            "Requirement already satisfied: packaging>=20.0 in /Users/truonghoangthuan/Library/Python/3.9/lib/python/site-packages (from matplotlib) (21.3)\n",
            "Requirement already satisfied: fonttools>=4.22.0 in /Users/truonghoangthuan/Library/Python/3.9/lib/python/site-packages (from matplotlib) (4.38.0)\n",
            "Requirement already satisfied: kiwisolver>=1.0.1 in /Users/truonghoangthuan/Library/Python/3.9/lib/python/site-packages (from matplotlib) (1.4.4)\n",
            "Requirement already satisfied: contourpy>=1.0.1 in /Users/truonghoangthuan/Library/Python/3.9/lib/python/site-packages (from matplotlib) (1.0.5)\n",
            "Requirement already satisfied: pyparsing>=2.2.1 in /Users/truonghoangthuan/Library/Python/3.9/lib/python/site-packages (from matplotlib) (3.0.9)\n",
            "Requirement already satisfied: six>=1.5 in /Library/Developer/CommandLineTools/Library/Frameworks/Python3.framework/Versions/3.9/lib/python3.9/site-packages (from python-dateutil>=2.7->matplotlib) (1.15.0)\n",
            "\n",
            "\u001b[1m[\u001b[0m\u001b[34;49mnotice\u001b[0m\u001b[1;39;49m]\u001b[0m\u001b[39;49m A new release of pip available: \u001b[0m\u001b[31;49m22.3\u001b[0m\u001b[39;49m -> \u001b[0m\u001b[32;49m22.3.1\u001b[0m\n",
            "\u001b[1m[\u001b[0m\u001b[34;49mnotice\u001b[0m\u001b[1;39;49m]\u001b[0m\u001b[39;49m To update, run: \u001b[0m\u001b[32;49m/Library/Developer/CommandLineTools/usr/bin/python3 -m pip install --upgrade pip\u001b[0m\n",
            "Note: you may need to restart the kernel to use updated packages.\n"
          ]
        }
      ],
      "source": [
        "%pip install matplotlib"
      ]
    },
    {
      "cell_type": "code",
      "execution_count": 39,
      "metadata": {
        "colab": {},
        "colab_type": "code",
        "id": "pq5mN2XzkAj_"
      },
      "outputs": [],
      "source": [
        "import pandas as pd\n",
        "import numpy as np\n",
        "import matplotlib.pyplot as plt\n",
        "%matplotlib inline"
      ]
    },
    {
      "cell_type": "code",
      "execution_count": 40,
      "metadata": {
        "colab": {
          "base_uri": "https://localhost:8080/",
          "height": 34
        },
        "colab_type": "code",
        "id": "4j5u2-2YkEce",
        "outputId": "58c5c4ce-99a2-41f8-b9e5-01843cf363ac"
      },
      "outputs": [
        {
          "data": {
            "text/plain": [
              "((8052, 41), (8052,))"
            ]
          },
          "execution_count": 40,
          "metadata": {},
          "output_type": "execute_result"
        }
      ],
      "source": [
        "X.shape, y.shape"
      ]
    },
    {
      "cell_type": "code",
      "execution_count": 41,
      "metadata": {
        "colab": {
          "base_uri": "https://localhost:8080/",
          "height": 51
        },
        "colab_type": "code",
        "id": "rzaQWvXjkG6a",
        "outputId": "b2e2158e-d00b-4341-c2dd-b1fd2a8b2200"
      },
      "outputs": [
        {
          "data": {
            "text/plain": [
              "array(['angry', 'calm', 'disgust', 'fear', 'happy', 'neutral', 'sad',\n",
              "       'surprised'], dtype=object)"
            ]
          },
          "execution_count": 41,
          "metadata": {},
          "output_type": "execute_result"
        }
      ],
      "source": [
        "np.unique(y)"
      ]
    },
    {
      "cell_type": "markdown",
      "metadata": {
        "colab_type": "text",
        "id": "qFIOIBCmkOof"
      },
      "source": [
        "X variable contains attributes while y variable contains corresponding labels.\n",
        "\n",
        "Once the data is divided into attributes and labels, the final preprocessing step is to divide data into training and test sets. The model_selection library of the Scikit-Learn library contains the train_test_split method that allows us to divide data into training and test sets.\n"
      ]
    },
    {
      "cell_type": "code",
      "execution_count": 42,
      "metadata": {
        "colab": {},
        "colab_type": "code",
        "id": "y-rWEbnjkI3z"
      },
      "outputs": [],
      "source": [
        "from sklearn.model_selection import train_test_split\n",
        "\n",
        "X_train, X_test, y_train, y_test = train_test_split(X, y, test_size = 0.20)"
      ]
    },
    {
      "cell_type": "markdown",
      "metadata": {
        "colab_type": "text",
        "id": "2jBVxf-ZkTSd"
      },
      "source": [
        "It is the time to train our SVM on the training data. Scikit-Learn contains the svm library, which contains built-in classes for different SVM algorithms. Since we are going to perform a classification task, we will use the support vector classifier class, which is written as SVC in the Scikit-Learn's svm library. We have set the kernel to linear.\n"
      ]
    },
    {
      "cell_type": "code",
      "execution_count": 43,
      "metadata": {
        "colab": {},
        "colab_type": "code",
        "id": "viKFlbezkSll"
      },
      "outputs": [],
      "source": [
        "from sklearn.svm import SVC\n",
        "\n",
        "svclassifier = SVC(kernel = 'linear')"
      ]
    },
    {
      "cell_type": "markdown",
      "metadata": {
        "colab_type": "text",
        "id": "obFMZPWqIs3C"
      },
      "source": [
        "The fit method of SVC class is called to train the algorithm on the training data, which is passed as a parameter to the fit method. Execute the following code to train the algorithm:\n"
      ]
    },
    {
      "cell_type": "code",
      "execution_count": 44,
      "metadata": {
        "colab": {},
        "colab_type": "code",
        "id": "LZnkHUkZkX1A"
      },
      "outputs": [
        {
          "name": "stdout",
          "output_type": "stream",
          "text": [
            "Trained model in 56.51158094406128 ms \n"
          ]
        }
      ],
      "source": [
        "import time\n",
        "\n",
        "starting_time = time.time()\n",
        "svclassifier.fit(X_train, y_train)\n",
        "print(\"Trained model in %s ms \" % str(time.time() - starting_time))"
      ]
    },
    {
      "cell_type": "markdown",
      "metadata": {
        "colab_type": "text",
        "id": "KXvzYeXYkaMb"
      },
      "source": [
        "To make predictions, the predict method of the SVC class is used.\n"
      ]
    },
    {
      "cell_type": "code",
      "execution_count": 45,
      "metadata": {
        "colab": {},
        "colab_type": "code",
        "id": "pUad4lXgkdZR"
      },
      "outputs": [
        {
          "name": "stdout",
          "output_type": "stream",
          "text": [
            "['fear' 'fear' 'fear' ... 'disgust' 'angry' 'happy']\n"
          ]
        }
      ],
      "source": [
        "y_pred = svclassifier.predict(X_test)\n",
        "print(y_pred)"
      ]
    },
    {
      "cell_type": "markdown",
      "metadata": {
        "colab_type": "text",
        "id": "dRd8zm49kfwn"
      },
      "source": [
        "Confusion matrix, precision, recall, and F1 measures are the most commonly used metrics for classification tasks. Scikit-Learn's metrics library contains the classification_report and confusion_matrix methods, which can be readily used to find out the values for these important metrics.\n",
        "We have used the following code for finding these metrics:\n"
      ]
    },
    {
      "cell_type": "code",
      "execution_count": 46,
      "metadata": {},
      "outputs": [
        {
          "name": "stdout",
          "output_type": "stream",
          "text": [
            "Defaulting to user installation because normal site-packages is not writeable\n",
            "Requirement already satisfied: seaborn in /Users/truonghoangthuan/Library/Python/3.9/lib/python/site-packages (0.12.1)\n",
            "Requirement already satisfied: matplotlib!=3.6.1,>=3.1 in /Users/truonghoangthuan/Library/Python/3.9/lib/python/site-packages (from seaborn) (3.6.0)\n",
            "Requirement already satisfied: pandas>=0.25 in /Users/truonghoangthuan/Library/Python/3.9/lib/python/site-packages (from seaborn) (1.5.1)\n",
            "Requirement already satisfied: numpy>=1.17 in /Users/truonghoangthuan/Library/Python/3.9/lib/python/site-packages (from seaborn) (1.23.4)\n",
            "Requirement already satisfied: python-dateutil>=2.7 in /Users/truonghoangthuan/Library/Python/3.9/lib/python/site-packages (from matplotlib!=3.6.1,>=3.1->seaborn) (2.8.2)\n",
            "Requirement already satisfied: cycler>=0.10 in /Users/truonghoangthuan/Library/Python/3.9/lib/python/site-packages (from matplotlib!=3.6.1,>=3.1->seaborn) (0.11.0)\n",
            "Requirement already satisfied: contourpy>=1.0.1 in /Users/truonghoangthuan/Library/Python/3.9/lib/python/site-packages (from matplotlib!=3.6.1,>=3.1->seaborn) (1.0.5)\n",
            "Requirement already satisfied: fonttools>=4.22.0 in /Users/truonghoangthuan/Library/Python/3.9/lib/python/site-packages (from matplotlib!=3.6.1,>=3.1->seaborn) (4.38.0)\n",
            "Requirement already satisfied: kiwisolver>=1.0.1 in /Users/truonghoangthuan/Library/Python/3.9/lib/python/site-packages (from matplotlib!=3.6.1,>=3.1->seaborn) (1.4.4)\n",
            "Requirement already satisfied: packaging>=20.0 in /Users/truonghoangthuan/Library/Python/3.9/lib/python/site-packages (from matplotlib!=3.6.1,>=3.1->seaborn) (21.3)\n",
            "Requirement already satisfied: pyparsing>=2.2.1 in /Users/truonghoangthuan/Library/Python/3.9/lib/python/site-packages (from matplotlib!=3.6.1,>=3.1->seaborn) (3.0.9)\n",
            "Requirement already satisfied: pillow>=6.2.0 in /Users/truonghoangthuan/Library/Python/3.9/lib/python/site-packages (from matplotlib!=3.6.1,>=3.1->seaborn) (9.2.0)\n",
            "Requirement already satisfied: pytz>=2020.1 in /Users/truonghoangthuan/Library/Python/3.9/lib/python/site-packages (from pandas>=0.25->seaborn) (2022.5)\n",
            "Requirement already satisfied: six>=1.5 in /Library/Developer/CommandLineTools/Library/Frameworks/Python3.framework/Versions/3.9/lib/python3.9/site-packages (from python-dateutil>=2.7->matplotlib!=3.6.1,>=3.1->seaborn) (1.15.0)\n",
            "\n",
            "\u001b[1m[\u001b[0m\u001b[34;49mnotice\u001b[0m\u001b[1;39;49m]\u001b[0m\u001b[39;49m A new release of pip available: \u001b[0m\u001b[31;49m22.3\u001b[0m\u001b[39;49m -> \u001b[0m\u001b[32;49m22.3.1\u001b[0m\n",
            "\u001b[1m[\u001b[0m\u001b[34;49mnotice\u001b[0m\u001b[1;39;49m]\u001b[0m\u001b[39;49m To update, run: \u001b[0m\u001b[32;49m/Library/Developer/CommandLineTools/usr/bin/python3 -m pip install --upgrade pip\u001b[0m\n",
            "Note: you may need to restart the kernel to use updated packages.\n"
          ]
        }
      ],
      "source": [
        "%pip install seaborn"
      ]
    },
    {
      "cell_type": "code",
      "execution_count": 50,
      "metadata": {
        "colab": {},
        "colab_type": "code",
        "id": "6qfbWKKzku_Z"
      },
      "outputs": [
        {
          "name": "stdout",
          "output_type": "stream",
          "text": [
            "              precision    recall  f1-score   support\n",
            "\n",
            "       angry       0.80      0.87      0.83       238\n",
            "        calm       0.55      0.76      0.64        75\n",
            "     disgust       0.83      0.82      0.83       203\n",
            "        fear       0.76      0.83      0.80       239\n",
            "       happy       0.79      0.75      0.77       240\n",
            "     neutral       0.93      0.87      0.90       208\n",
            "         sad       0.83      0.79      0.81       213\n",
            "   surprised       0.95      0.80      0.87       195\n",
            "\n",
            "    accuracy                           0.82      1611\n",
            "   macro avg       0.81      0.81      0.81      1611\n",
            "weighted avg       0.82      0.82      0.82      1611\n",
            "\n",
            "----accuracy score 81.56424581005587 ----\n"
          ]
        },
        {
          "data": {
            "image/png": "[encoded data removed]",
            "text/plain": [
              "<Figure size 640x480 with 2 Axes>"
            ]
          },
          "metadata": {},
          "output_type": "display_data"
        }
      ],
      "source": [
        "from sklearn.metrics import classification_report, confusion_matrix, accuracy_score\n",
        "import seaborn as sn\n",
        "\n",
        "print(classification_report(y_test,y_pred))\n",
        "\n",
        "acc = float(accuracy_score(y_test,y_pred))*100\n",
        "print(\"----accuracy score %s ----\" % acc)\n",
        "\n",
        "cm = confusion_matrix(y_test,y_pred)\n",
        "df_cm = pd.DataFrame(cm)\n",
        "sn.heatmap(df_cm, annot=True, fmt='')\n",
        "plt.show()"
      ]
    },
    {
      "cell_type": "markdown",
      "metadata": {
        "colab_type": "text",
        "id": "XADzC5Cbkx6a"
      },
      "source": [
        "Now by calculating the training accuracy and comparing with testing accuracy, we can check for overfitting of data\n"
      ]
    },
    {
      "cell_type": "code",
      "execution_count": 51,
      "metadata": {
        "colab": {},
        "colab_type": "code",
        "id": "cPupL1MfjMVQ"
      },
      "outputs": [
        {
          "name": "stdout",
          "output_type": "stream",
          "text": [
            "----train accuracy score 84.7849712777519 ----\n",
            "----test accuracy score 81.56424581005587 ----\n"
          ]
        }
      ],
      "source": [
        "train_acc = float(svclassifier.score(X_train, y_train)*100)\n",
        "print(\"----train accuracy score %s ----\" % train_acc)\n",
        "\n",
        "test_acc = float(svclassifier.score(X_test, y_test)*100)\n",
        "print(\"----test accuracy score %s ----\" % test_acc)"
      ]
    },
    {
      "cell_type": "markdown",
      "metadata": {
        "colab_type": "text",
        "id": "0kWl4SbrtiUP"
      },
      "source": [
        "## Cross-Validation\n"
      ]
    },
    {
      "cell_type": "markdown",
      "metadata": {
        "colab_type": "text",
        "id": "SIsvihdMJDYO"
      },
      "source": [
        "5-fold cross validation of the dataset with the SVC classifier.\n"
      ]
    },
    {
      "cell_type": "code",
      "execution_count": 52,
      "metadata": {
        "colab": {},
        "colab_type": "code",
        "id": "K8JwrWJ_k6qN"
      },
      "outputs": [
        {
          "name": "stdout",
          "output_type": "stream",
          "text": [
            "[0.81688392 0.8106766  0.81801242 0.80931677 0.82608696]\n"
          ]
        }
      ],
      "source": [
        "from sklearn.model_selection import cross_val_score\n",
        "\n",
        "# no. of folds cv = 5\n",
        "cv_results = cross_val_score(svclassifier, X, y, cv = 5)\n",
        "print(cv_results)"
      ]
    },
    {
      "cell_type": "markdown",
      "metadata": {
        "colab_type": "text",
        "id": "1x2ICDUKtows"
      },
      "source": [
        "## Scaling\n",
        "\n",
        "When performing the linear SVM classification, it is often helpful to normalize the training data, for example by subtracting the mean and dividing by the standard deviation, and afterwards scale the test data with the mean and standard deviation of training data.\n"
      ]
    },
    {
      "cell_type": "code",
      "execution_count": 53,
      "metadata": {
        "colab": {
          "base_uri": "https://localhost:8080/",
          "height": 51
        },
        "colab_type": "code",
        "id": "OKhK1aW_trnZ",
        "outputId": "c1cf528c-cbb1-4760-d5c1-edf7651a12c0"
      },
      "outputs": [
        {
          "name": "stdout",
          "output_type": "stream",
          "text": [
            "Accuracy with Scaling: 0.8919925512104283\n",
            "Accuracy without Scaling: 0.8280571073867163\n"
          ]
        }
      ],
      "source": [
        "from sklearn.model_selection import train_test_split\n",
        "from sklearn.preprocessing import StandardScaler\n",
        "from sklearn.pipeline import Pipeline\n",
        "from sklearn.svm import SVC\n",
        "\n",
        "\n",
        "#splitting dataset into train/ test sets\n",
        "X_train, X_test, y_train, y_test = train_test_split(X, y, test_size = 0.20)\n",
        "\n",
        "# Setup the pipeline steps: steps\n",
        "steps = [('scaler', StandardScaler()),\n",
        "        ('SVM', SVC())]\n",
        "        \n",
        "# Create the pipeline: pipeline\n",
        "pipeline = Pipeline(steps)\n",
        "\n",
        "# Fit the pipeline to the training set: svc_scaled\n",
        "svc_scaled = pipeline.fit(X_train, y_train)\n",
        "\n",
        "# Instantiate and fit a classifier to the unscaled data\n",
        "svc_unscaled = SVC(kernel = 'linear').fit(X_train, y_train)\n",
        "\n",
        "# Compute and print metrics\n",
        "print('Accuracy with Scaling: {}'.format(svc_scaled.score(X_test, y_test)))\n",
        "print('Accuracy without Scaling: {}'.format(svc_unscaled.score(X_test, y_test)))\n"
      ]
    },
    {
      "cell_type": "markdown",
      "metadata": {
        "colab_type": "text",
        "id": "9bxO_NYuUJpN"
      },
      "source": [
        "### Generalization check\n",
        "\n",
        "Checking for overfitting or underfitting by comparing the training and testing scores of the model\n"
      ]
    },
    {
      "cell_type": "code",
      "execution_count": 54,
      "metadata": {
        "colab": {
          "base_uri": "https://localhost:8080/",
          "height": 51
        },
        "colab_type": "code",
        "id": "Ve1e2yVBivNT",
        "outputId": "46e085fa-7fe4-4a7b-da55-542f2d463c07"
      },
      "outputs": [
        {
          "name": "stdout",
          "output_type": "stream",
          "text": [
            "----train accuracy score 91.36780003105109 ----\n",
            "----test accuracy score 89.19925512104282 ----\n"
          ]
        }
      ],
      "source": [
        "train_acc = float(svc_scaled.score(X_train, y_train)*100)\n",
        "print(\"----train accuracy score %s ----\" % train_acc)\n",
        "\n",
        "test_acc = float(svc_scaled.score(X_test, y_test)*100)\n",
        "print(\"----test accuracy score %s ----\" % test_acc)"
      ]
    },
    {
      "cell_type": "code",
      "execution_count": 55,
      "metadata": {
        "colab": {},
        "colab_type": "code",
        "id": "JkMV4nVo2MBi"
      },
      "outputs": [],
      "source": [
        "scaled_predictions = svc_scaled.predict(X_test)"
      ]
    },
    {
      "cell_type": "markdown",
      "metadata": {
        "colab_type": "text",
        "id": "r_56D7h6WkOE"
      },
      "source": [
        "### Classification reports and Confusion Matrix\n"
      ]
    },
    {
      "cell_type": "code",
      "execution_count": 64,
      "metadata": {
        "colab": {
          "base_uri": "https://localhost:8080/",
          "height": 540
        },
        "colab_type": "code",
        "id": "oROt3FvXwMHK",
        "outputId": "58d34e5c-73fd-4f9e-fb52-9f7729523c5e"
      },
      "outputs": [
        {
          "name": "stdout",
          "output_type": "stream",
          "text": [
            "              precision    recall  f1-score   support\n",
            "\n",
            "       angry       0.94      0.92      0.93       225\n",
            "        calm       0.69      0.84      0.76        89\n",
            "     disgust       0.85      0.91      0.88       207\n",
            "        fear       0.92      0.88      0.90       232\n",
            "       happy       0.94      0.87      0.90       234\n",
            "     neutral       0.98      0.89      0.93       182\n",
            "         sad       0.85      0.88      0.87       242\n",
            "   surprised       0.89      0.92      0.90       200\n",
            "\n",
            "    accuracy                           0.89      1611\n",
            "   macro avg       0.88      0.89      0.88      1611\n",
            "weighted avg       0.90      0.89      0.89      1611\n",
            "\n",
            "----accuracy score 89.19925512104282 ----\n"
          ]
        },
        {
          "data": {
            "image/png": "[encoded data removed]",
            "text/plain": [
              "<Figure size 640x480 with 2 Axes>"
            ]
          },
          "metadata": {},
          "output_type": "display_data"
        }
      ],
      "source": [
        "from sklearn.metrics import classification_report, confusion_matrix,accuracy_score\n",
        "import seaborn as sn\n",
        "\n",
        "print(classification_report(y_test,scaled_predictions))\n",
        "\n",
        "acc = float(accuracy_score(y_test,scaled_predictions))*100\n",
        "print(\"----accuracy score %s ----\" % acc)\n",
        "\n",
        "cm = confusion_matrix(y_test,scaled_predictions)\n",
        "labels = [\"angry\", \"calm\", \"disgust\", \"fear\", \"happy\", \"neutral\", \"sad\", \"surprised\"]\n",
        "df_cm = pd.DataFrame(cm, index=labels, columns=labels)\n",
        "sn.heatmap(df_cm, annot=True, fmt='')\n",
        "plt.show()"
      ]
    },
    {
      "cell_type": "markdown",
      "metadata": {
        "colab_type": "text",
        "id": "k7ay4Mx3WvIN"
      },
      "source": [
        "#### Cross Validation\n"
      ]
    },
    {
      "cell_type": "code",
      "execution_count": 57,
      "metadata": {
        "colab": {
          "base_uri": "https://localhost:8080/",
          "height": 34
        },
        "colab_type": "code",
        "id": "Yqo9QIL82ez-",
        "outputId": "ba6f2c4f-432d-42fe-f758-21e93bf9cb60"
      },
      "outputs": [
        {
          "name": "stdout",
          "output_type": "stream",
          "text": [
            "[0.89819988 0.88454376 0.89192547 0.88322981 0.90248447]\n"
          ]
        }
      ],
      "source": [
        "from sklearn.model_selection import cross_val_score\n",
        "\n",
        "# no. of folds cv = 5\n",
        "cv_results = cross_val_score(svc_scaled, X, y, cv = 5)\n",
        "print(cv_results)"
      ]
    },
    {
      "cell_type": "code",
      "execution_count": null,
      "metadata": {
        "colab": {},
        "colab_type": "code",
        "id": "C7Qsgs0H8Ijx"
      },
      "outputs": [],
      "source": []
    }
  ],
  "metadata": {
    "colab": {
      "collapsed_sections": [
        "gmyFS7Ajj4PZ",
        "0kWl4SbrtiUP"
      ],
      "name": "SER-SVM.ipynb",
      "provenance": []
    },
    "kernelspec": {
      "display_name": "Python 3.9.6 64-bit",
      "language": "python",
      "name": "python3"
    },
    "language_info": {
      "codemirror_mode": {
        "name": "ipython",
        "version": 3
      },
      "file_extension": ".py",
      "mimetype": "text/x-python",
      "name": "python",
      "nbconvert_exporter": "python",
      "pygments_lexer": "ipython3",
      "version": "3.9.6"
    },
    "vscode": {
      "interpreter": {
        "hash": "31f2aee4e71d21fbe5cf8b01ff0e069b9275f58929596ceb00d14d90e3e16cd6"
      }
    }
  },
  "nbformat": 4,
  "nbformat_minor": 0
}
