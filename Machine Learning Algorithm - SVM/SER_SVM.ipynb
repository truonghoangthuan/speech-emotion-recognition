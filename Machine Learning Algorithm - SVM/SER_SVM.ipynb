{
  "cells": [
    {
      "cell_type": "code",
      "execution_count": null,
      "metadata": {
        "colab": {
          "base_uri": "https://localhost:8080/",
          "height": 34
        },
        "colab_type": "code",
        "id": "1LWT3AufOyCv",
        "outputId": "6e1a57a4-604e-4d8e-cd48-f4e7b9f560de"
      },
      "outputs": [
        {
          "name": "stdout",
          "output_type": "stream",
          "text": [
            "Drive already mounted at /content/drive; to attempt to forcibly remount, call drive.mount(\"/content/drive\", force_remount=True).\n"
          ]
        }
      ],
      "source": [
        "from google.colab import drive\n",
        "drive.mount('/content/drive')"
      ]
    },
    {
      "cell_type": "code",
      "execution_count": 1,
      "metadata": {
        "colab": {},
        "colab_type": "code",
        "id": "VZWf5RDrO8Ta"
      },
      "outputs": [],
      "source": [
        "import pandas as pd\n",
        "import numpy as np"
      ]
    },
    {
      "cell_type": "code",
      "execution_count": 2,
      "metadata": {
        "colab": {
          "base_uri": "https://localhost:8080/",
          "height": 170
        },
        "colab_type": "code",
        "id": "5JBkWhfnQQDt",
        "outputId": "8d719b31-f9b8-4904-9d16-4c69e1fd9027"
      },
      "outputs": [
        {
          "name": "stdout",
          "output_type": "stream",
          "text": [
            "data loaded in 0.04150581359863281ms\n",
            "   Unnamed: 0    0           1           2          3          4          5  \\\n",
            "0        4571  0.0 -428.955750   30.633455 -27.307041   1.504721 -26.749994   \n",
            "1        7598  0.0 -466.247345  108.394928  22.404434  -9.950567  -1.940056   \n",
            "2        2577  0.0 -506.026703   73.471344 -24.569202  18.744520  -4.423648   \n",
            "3        5119  0.0 -625.601013   65.558983   3.517631  22.679808   6.279314   \n",
            "4        2860  0.0 -629.478271   42.178589  -7.941524  10.258301   3.436107   \n",
            "\n",
            "           6          7          8  ...        32        33        34  \\\n",
            "0  -8.614854  -8.907691 -15.253363  ...  1.370579 -1.676850  1.117173   \n",
            "1  16.626038 -16.051231   0.147539  ...  0.890182  1.205959  1.013247   \n",
            "2 -22.699423  -9.281975   4.615507  ... -0.648875  1.223297  1.891176   \n",
            "3   7.639458  -4.567222  -2.187462  ... -1.074135 -2.155241 -2.138540   \n",
            "4   1.758366  -6.264330  -3.550105  ... -0.459977 -3.157085 -2.303364   \n",
            "\n",
            "         35        36        37        38        39         40  emotion  \n",
            "0 -0.289544  0.298445 -0.023193  0.868919 -1.673207  -1.009187    angry  \n",
            "1  5.665571  3.271892  5.340679  5.106529  6.893327   9.732125  disgust  \n",
            "2  4.405164  0.990297  1.397128  1.589309  6.025186  10.104441    angry  \n",
            "3 -3.347337 -2.161843 -0.208305 -1.782694 -2.718122  -3.099687     fear  \n",
            "4 -1.640820 -2.263803 -2.095469 -1.323282 -0.350202   0.445397     fear  \n",
            "\n",
            "[5 rows x 43 columns]\n"
          ]
        }
      ],
      "source": [
        "import time\n",
        "\n",
        "starting_time = time.time()\n",
        "data = pd.read_csv('RAVTESS_MFCC_Observed.csv')\n",
        "print(\"data loaded in \" + str(time.time()-starting_time) + \"ms\")\n",
        "\n",
        "print(data.head())"
      ]
    },
    {
      "cell_type": "code",
      "execution_count": 3,
      "metadata": {
        "colab": {
          "base_uri": "https://localhost:8080/",
          "height": 34
        },
        "colab_type": "code",
        "id": "Gnn24ErtQXIM",
        "outputId": "710ff011-0a32-4050-e7d5-fb9fd820e34e"
      },
      "outputs": [
        {
          "data": {
            "text/plain": [
              "(8052, 43)"
            ]
          },
          "execution_count": 3,
          "metadata": {},
          "output_type": "execute_result"
        }
      ],
      "source": [
        "data.shape"
      ]
    },
    {
      "cell_type": "code",
      "execution_count": 4,
      "metadata": {
        "colab": {
          "base_uri": "https://localhost:8080/",
          "height": 102
        },
        "colab_type": "code",
        "id": "6UlGjAhtlhl2",
        "outputId": "5146eb7a-e950-416c-d28e-412f40cb7313"
      },
      "outputs": [
        {
          "data": {
            "text/plain": [
              "Index(['Unnamed: 0', '0', '1', '2', '3', '4', '5', '6', '7', '8', '9', '10',\n",
              "       '11', '12', '13', '14', '15', '16', '17', '18', '19', '20', '21', '22',\n",
              "       '23', '24', '25', '26', '27', '28', '29', '30', '31', '32', '33', '34',\n",
              "       '35', '36', '37', '38', '39', '40', 'emotion'],\n",
              "      dtype='object')"
            ]
          },
          "execution_count": 4,
          "metadata": {},
          "output_type": "execute_result"
        }
      ],
      "source": [
        "#printing all columns\n",
        "data.columns"
      ]
    },
    {
      "cell_type": "code",
      "execution_count": 5,
      "metadata": {
        "colab": {},
        "colab_type": "code",
        "id": "7T9PgDj1luY1"
      },
      "outputs": [],
      "source": [
        "#dropping the column Unnamed: 0 to removed shuffled index\n",
        "data = data.drop('Unnamed: 0',axis=1)"
      ]
    },
    {
      "cell_type": "code",
      "execution_count": 6,
      "metadata": {
        "colab": {
          "base_uri": "https://localhost:8080/",
          "height": 102
        },
        "colab_type": "code",
        "id": "9XYzHT00l1vu",
        "outputId": "b0b2da96-31af-430b-cc33-6038c9348681"
      },
      "outputs": [
        {
          "data": {
            "text/plain": [
              "Index(['0', '1', '2', '3', '4', '5', '6', '7', '8', '9', '10', '11', '12',\n",
              "       '13', '14', '15', '16', '17', '18', '19', '20', '21', '22', '23', '24',\n",
              "       '25', '26', '27', '28', '29', '30', '31', '32', '33', '34', '35', '36',\n",
              "       '37', '38', '39', '40', 'emotion'],\n",
              "      dtype='object')"
            ]
          },
          "execution_count": 6,
          "metadata": {},
          "output_type": "execute_result"
        }
      ],
      "source": [
        "data.columns"
      ]
    },
    {
      "cell_type": "code",
      "execution_count": 7,
      "metadata": {
        "colab": {},
        "colab_type": "code",
        "id": "dFz_djRCj8-7"
      },
      "outputs": [],
      "source": [
        "#separating features and target outputs\n",
        "X = data.drop('emotion', axis = 1).values\n",
        "y = data['emotion'].values"
      ]
    },
    {
      "cell_type": "markdown",
      "metadata": {
        "colab_type": "text",
        "id": "gmyFS7Ajj4PZ"
      },
      "source": [
        "## SVM\n",
        "\n",
        "Implementing SVM with Scikit-Learn"
      ]
    },
    {
      "cell_type": "code",
      "execution_count": 8,
      "metadata": {},
      "outputs": [
        {
          "name": "stdout",
          "output_type": "stream",
          "text": [
            "Defaulting to user installation because normal site-packages is not writeable\n",
            "Requirement already satisfied: matplotlib in /Users/truonghoangthuan/Library/Python/3.9/lib/python/site-packages (3.6.0)\n",
            "Requirement already satisfied: cycler>=0.10 in /Users/truonghoangthuan/Library/Python/3.9/lib/python/site-packages (from matplotlib) (0.11.0)\n",
            "Requirement already satisfied: contourpy>=1.0.1 in /Users/truonghoangthuan/Library/Python/3.9/lib/python/site-packages (from matplotlib) (1.0.5)\n",
            "Requirement already satisfied: pillow>=6.2.0 in /Users/truonghoangthuan/Library/Python/3.9/lib/python/site-packages (from matplotlib) (9.2.0)\n",
            "Requirement already satisfied: pyparsing>=2.2.1 in /Users/truonghoangthuan/Library/Python/3.9/lib/python/site-packages (from matplotlib) (3.0.9)\n",
            "Requirement already satisfied: kiwisolver>=1.0.1 in /Users/truonghoangthuan/Library/Python/3.9/lib/python/site-packages (from matplotlib) (1.4.4)\n",
            "Requirement already satisfied: packaging>=20.0 in /Users/truonghoangthuan/Library/Python/3.9/lib/python/site-packages (from matplotlib) (21.3)\n",
            "Requirement already satisfied: numpy>=1.19 in /Users/truonghoangthuan/Library/Python/3.9/lib/python/site-packages (from matplotlib) (1.23.4)\n",
            "Requirement already satisfied: fonttools>=4.22.0 in /Users/truonghoangthuan/Library/Python/3.9/lib/python/site-packages (from matplotlib) (4.38.0)\n",
            "Requirement already satisfied: python-dateutil>=2.7 in /Users/truonghoangthuan/Library/Python/3.9/lib/python/site-packages (from matplotlib) (2.8.2)\n",
            "Requirement already satisfied: six>=1.5 in /Library/Developer/CommandLineTools/Library/Frameworks/Python3.framework/Versions/3.9/lib/python3.9/site-packages (from python-dateutil>=2.7->matplotlib) (1.15.0)\n",
            "\n",
            "\u001b[1m[\u001b[0m\u001b[34;49mnotice\u001b[0m\u001b[1;39;49m]\u001b[0m\u001b[39;49m A new release of pip available: \u001b[0m\u001b[31;49m22.3\u001b[0m\u001b[39;49m -> \u001b[0m\u001b[32;49m22.3.1\u001b[0m\n",
            "\u001b[1m[\u001b[0m\u001b[34;49mnotice\u001b[0m\u001b[1;39;49m]\u001b[0m\u001b[39;49m To update, run: \u001b[0m\u001b[32;49m/Library/Developer/CommandLineTools/usr/bin/python3 -m pip install --upgrade pip\u001b[0m\n",
            "Note: you may need to restart the kernel to use updated packages.\n"
          ]
        }
      ],
      "source": [
        "%pip install matplotlib"
      ]
    },
    {
      "cell_type": "code",
      "execution_count": 9,
      "metadata": {
        "colab": {},
        "colab_type": "code",
        "id": "pq5mN2XzkAj_"
      },
      "outputs": [],
      "source": [
        "import pandas as pd\n",
        "import numpy as np\n",
        "import matplotlib.pyplot as plt\n",
        "%matplotlib inline"
      ]
    },
    {
      "cell_type": "code",
      "execution_count": 10,
      "metadata": {
        "colab": {
          "base_uri": "https://localhost:8080/",
          "height": 34
        },
        "colab_type": "code",
        "id": "4j5u2-2YkEce",
        "outputId": "58c5c4ce-99a2-41f8-b9e5-01843cf363ac"
      },
      "outputs": [
        {
          "data": {
            "text/plain": [
              "((8052, 41), (8052,))"
            ]
          },
          "execution_count": 10,
          "metadata": {},
          "output_type": "execute_result"
        }
      ],
      "source": [
        "X.shape, y.shape"
      ]
    },
    {
      "cell_type": "code",
      "execution_count": 11,
      "metadata": {
        "colab": {
          "base_uri": "https://localhost:8080/",
          "height": 51
        },
        "colab_type": "code",
        "id": "rzaQWvXjkG6a",
        "outputId": "b2e2158e-d00b-4341-c2dd-b1fd2a8b2200"
      },
      "outputs": [
        {
          "data": {
            "text/plain": [
              "array(['angry', 'calm', 'disgust', 'fear', 'happy', 'neutral', 'sad',\n",
              "       'surprised'], dtype=object)"
            ]
          },
          "execution_count": 11,
          "metadata": {},
          "output_type": "execute_result"
        }
      ],
      "source": [
        "np.unique(y)"
      ]
    },
    {
      "cell_type": "markdown",
      "metadata": {
        "colab_type": "text",
        "id": "qFIOIBCmkOof"
      },
      "source": [
        "X variable contains attributes while y variable contains corresponding labels.\n",
        "\n",
        "Once the data is divided into attributes and labels, the final preprocessing step is to divide data into training and test sets. The model_selection library of the Scikit-Learn library contains the train_test_split method that allows us to divide data into training and test sets."
      ]
    },
    {
      "cell_type": "code",
      "execution_count": 12,
      "metadata": {
        "colab": {},
        "colab_type": "code",
        "id": "y-rWEbnjkI3z"
      },
      "outputs": [],
      "source": [
        "from sklearn.model_selection import train_test_split\n",
        "\n",
        "X_train, X_test, y_train, y_test = train_test_split(X, y, test_size = 0.20)"
      ]
    },
    {
      "cell_type": "markdown",
      "metadata": {
        "colab_type": "text",
        "id": "2jBVxf-ZkTSd"
      },
      "source": [
        "It is the time to train our SVM on the training data. Scikit-Learn contains the svm library, which contains built-in classes for different SVM algorithms. Since we are going to perform a classification task, we will use the support vector classifier class, which is written as SVC in the Scikit-Learn's svm library. We have set the kernel to linear."
      ]
    },
    {
      "cell_type": "code",
      "execution_count": 13,
      "metadata": {
        "colab": {},
        "colab_type": "code",
        "id": "viKFlbezkSll"
      },
      "outputs": [],
      "source": [
        "from sklearn.svm import SVC\n",
        "\n",
        "svclassifier = SVC(kernel = 'linear')"
      ]
    },
    {
      "cell_type": "markdown",
      "metadata": {
        "colab_type": "text",
        "id": "obFMZPWqIs3C"
      },
      "source": [
        "The fit method of SVC class is called to train the algorithm on the training data, which is passed as a parameter to the fit method. Execute the following code to train the algorithm:"
      ]
    },
    {
      "cell_type": "code",
      "execution_count": 14,
      "metadata": {
        "colab": {},
        "colab_type": "code",
        "id": "LZnkHUkZkX1A"
      },
      "outputs": [
        {
          "name": "stdout",
          "output_type": "stream",
          "text": [
            "Trained model in 53.243865728378296 ms \n"
          ]
        }
      ],
      "source": [
        "import time\n",
        "\n",
        "starting_time = time.time()\n",
        "svclassifier.fit(X_train, y_train)\n",
        "print(\"Trained model in %s ms \" % str(time.time() - starting_time))"
      ]
    },
    {
      "cell_type": "markdown",
      "metadata": {
        "colab_type": "text",
        "id": "KXvzYeXYkaMb"
      },
      "source": [
        "To make predictions, the predict method of the SVC class is used."
      ]
    },
    {
      "cell_type": "code",
      "execution_count": 15,
      "metadata": {
        "colab": {},
        "colab_type": "code",
        "id": "pUad4lXgkdZR"
      },
      "outputs": [],
      "source": [
        "y_pred = svclassifier.predict(X_test)"
      ]
    },
    {
      "cell_type": "markdown",
      "metadata": {
        "colab_type": "text",
        "id": "dRd8zm49kfwn"
      },
      "source": [
        "Confusion matrix, precision, recall, and F1 measures are the most commonly used metrics for classification tasks. Scikit-Learn's metrics library contains the classification_report and confusion_matrix methods, which can be readily used to find out the values for these important metrics.\n",
        "We have used the following code for finding these metrics:"
      ]
    },
    {
      "cell_type": "code",
      "execution_count": 16,
      "metadata": {},
      "outputs": [
        {
          "name": "stdout",
          "output_type": "stream",
          "text": [
            "Defaulting to user installation because normal site-packages is not writeable\n",
            "Requirement already satisfied: seaborn in /Users/truonghoangthuan/Library/Python/3.9/lib/python/site-packages (0.12.1)\n",
            "Requirement already satisfied: numpy>=1.17 in /Users/truonghoangthuan/Library/Python/3.9/lib/python/site-packages (from seaborn) (1.23.4)\n",
            "Requirement already satisfied: matplotlib!=3.6.1,>=3.1 in /Users/truonghoangthuan/Library/Python/3.9/lib/python/site-packages (from seaborn) (3.6.0)\n",
            "Requirement already satisfied: pandas>=0.25 in /Users/truonghoangthuan/Library/Python/3.9/lib/python/site-packages (from seaborn) (1.5.1)\n",
            "Requirement already satisfied: contourpy>=1.0.1 in /Users/truonghoangthuan/Library/Python/3.9/lib/python/site-packages (from matplotlib!=3.6.1,>=3.1->seaborn) (1.0.5)\n",
            "Requirement already satisfied: kiwisolver>=1.0.1 in /Users/truonghoangthuan/Library/Python/3.9/lib/python/site-packages (from matplotlib!=3.6.1,>=3.1->seaborn) (1.4.4)\n",
            "Requirement already satisfied: pillow>=6.2.0 in /Users/truonghoangthuan/Library/Python/3.9/lib/python/site-packages (from matplotlib!=3.6.1,>=3.1->seaborn) (9.2.0)\n",
            "Requirement already satisfied: pyparsing>=2.2.1 in /Users/truonghoangthuan/Library/Python/3.9/lib/python/site-packages (from matplotlib!=3.6.1,>=3.1->seaborn) (3.0.9)\n",
            "Requirement already satisfied: fonttools>=4.22.0 in /Users/truonghoangthuan/Library/Python/3.9/lib/python/site-packages (from matplotlib!=3.6.1,>=3.1->seaborn) (4.38.0)\n",
            "Requirement already satisfied: packaging>=20.0 in /Users/truonghoangthuan/Library/Python/3.9/lib/python/site-packages (from matplotlib!=3.6.1,>=3.1->seaborn) (21.3)\n",
            "Requirement already satisfied: cycler>=0.10 in /Users/truonghoangthuan/Library/Python/3.9/lib/python/site-packages (from matplotlib!=3.6.1,>=3.1->seaborn) (0.11.0)\n",
            "Requirement already satisfied: python-dateutil>=2.7 in /Users/truonghoangthuan/Library/Python/3.9/lib/python/site-packages (from matplotlib!=3.6.1,>=3.1->seaborn) (2.8.2)\n",
            "Requirement already satisfied: pytz>=2020.1 in /Users/truonghoangthuan/Library/Python/3.9/lib/python/site-packages (from pandas>=0.25->seaborn) (2022.5)\n",
            "Requirement already satisfied: six>=1.5 in /Library/Developer/CommandLineTools/Library/Frameworks/Python3.framework/Versions/3.9/lib/python3.9/site-packages (from python-dateutil>=2.7->matplotlib!=3.6.1,>=3.1->seaborn) (1.15.0)\n",
            "\n",
            "\u001b[1m[\u001b[0m\u001b[34;49mnotice\u001b[0m\u001b[1;39;49m]\u001b[0m\u001b[39;49m A new release of pip available: \u001b[0m\u001b[31;49m22.3\u001b[0m\u001b[39;49m -> \u001b[0m\u001b[32;49m22.3.1\u001b[0m\n",
            "\u001b[1m[\u001b[0m\u001b[34;49mnotice\u001b[0m\u001b[1;39;49m]\u001b[0m\u001b[39;49m To update, run: \u001b[0m\u001b[32;49m/Library/Developer/CommandLineTools/usr/bin/python3 -m pip install --upgrade pip\u001b[0m\n",
            "Note: you may need to restart the kernel to use updated packages.\n"
          ]
        }
      ],
      "source": [
        "%pip install seaborn"
      ]
    },
    {
      "cell_type": "code",
      "execution_count": 17,
      "metadata": {
        "colab": {},
        "colab_type": "code",
        "id": "6qfbWKKzku_Z"
      },
      "outputs": [
        {
          "name": "stdout",
          "output_type": "stream",
          "text": [
            "              precision    recall  f1-score   support\n",
            "\n",
            "       angry       0.83      0.88      0.85       246\n",
            "        calm       0.54      0.73      0.62        82\n",
            "     disgust       0.88      0.84      0.86       215\n",
            "        fear       0.81      0.80      0.81       219\n",
            "       happy       0.73      0.74      0.74       240\n",
            "     neutral       0.90      0.90      0.90       185\n",
            "         sad       0.87      0.80      0.83       240\n",
            "   surprised       0.84      0.75      0.79       184\n",
            "\n",
            "    accuracy                           0.81      1611\n",
            "   macro avg       0.80      0.81      0.80      1611\n",
            "weighted avg       0.82      0.81      0.81      1611\n",
            "\n",
            "----accuracy score 81.19180633147114 ----\n"
          ]
        },
        {
          "data": {
            "image/png": "[encoded data removed]",
            "text/plain": [
              "<Figure size 640x480 with 2 Axes>"
            ]
          },
          "metadata": {},
          "output_type": "display_data"
        }
      ],
      "source": [
        "from sklearn.metrics import classification_report, confusion_matrix,accuracy_score\n",
        "import seaborn as sn\n",
        "\n",
        "print(classification_report(y_test,y_pred))\n",
        "\n",
        "acc = float(accuracy_score(y_test,y_pred))*100\n",
        "print(\"----accuracy score %s ----\" % acc)\n",
        "\n",
        "cm = confusion_matrix(y_test,y_pred)\n",
        "df_cm = pd.DataFrame(cm)\n",
        "sn.heatmap(df_cm, annot=True, fmt='')\n",
        "plt.show()"
      ]
    },
    {
      "cell_type": "markdown",
      "metadata": {
        "colab_type": "text",
        "id": "XADzC5Cbkx6a"
      },
      "source": [
        "Now by calculating the training accuracy and comparing with testing accuracy, we can check for overfitting of data"
      ]
    },
    {
      "cell_type": "code",
      "execution_count": 18,
      "metadata": {
        "colab": {},
        "colab_type": "code",
        "id": "cPupL1MfjMVQ"
      },
      "outputs": [
        {
          "name": "stdout",
          "output_type": "stream",
          "text": [
            "----train accuracy score 84.66076696165192 ----\n",
            "----test accuracy score 81.19180633147114 ----\n"
          ]
        }
      ],
      "source": [
        "train_acc = float(svclassifier.score(X_train, y_train)*100)\n",
        "print(\"----train accuracy score %s ----\" % train_acc)\n",
        "\n",
        "test_acc = float(svclassifier.score(X_test, y_test)*100)\n",
        "print(\"----test accuracy score %s ----\" % test_acc)"
      ]
    },
    {
      "cell_type": "markdown",
      "metadata": {
        "colab_type": "text",
        "id": "0kWl4SbrtiUP"
      },
      "source": [
        "## Cross-Validation"
      ]
    },
    {
      "cell_type": "markdown",
      "metadata": {
        "colab_type": "text",
        "id": "SIsvihdMJDYO"
      },
      "source": [
        "5-fold cross validation of the dataset with the SVC classifier."
      ]
    },
    {
      "cell_type": "code",
      "execution_count": 19,
      "metadata": {
        "colab": {},
        "colab_type": "code",
        "id": "K8JwrWJ_k6qN"
      },
      "outputs": [
        {
          "name": "stdout",
          "output_type": "stream",
          "text": [
            "[0.82247052 0.8125388  0.81428571 0.82173913 0.81614907]\n"
          ]
        }
      ],
      "source": [
        "from sklearn.model_selection import cross_val_score\n",
        "\n",
        "# no. of folds cv = 5\n",
        "cv_results = cross_val_score(svclassifier, X, y, cv = 5)\n",
        "print(cv_results)"
      ]
    },
    {
      "cell_type": "markdown",
      "metadata": {
        "colab_type": "text",
        "id": "1x2ICDUKtows"
      },
      "source": [
        "## Scaling \n",
        "\n",
        "When performing the linear SVM classification, it is often helpful to normalize the training data, for example by subtracting the mean and dividing by the standard deviation, and afterwards scale the test data with the mean and standard deviation of training data."
      ]
    },
    {
      "cell_type": "code",
      "execution_count": 20,
      "metadata": {
        "colab": {
          "base_uri": "https://localhost:8080/",
          "height": 51
        },
        "colab_type": "code",
        "id": "OKhK1aW_trnZ",
        "outputId": "c1cf528c-cbb1-4760-d5c1-edf7651a12c0"
      },
      "outputs": [
        {
          "name": "stdout",
          "output_type": "stream",
          "text": [
            "Accuracy with Scaling: 0.9081315952824333\n",
            "Accuracy without Scaling: 0.8280571073867163\n"
          ]
        }
      ],
      "source": [
        "from sklearn.model_selection import train_test_split\n",
        "from sklearn.preprocessing import StandardScaler\n",
        "from sklearn.pipeline import Pipeline\n",
        "from sklearn.svm import SVC\n",
        "\n",
        "\n",
        "#splitting dataset into train/ test sets\n",
        "X_train, X_test, y_train, y_test = train_test_split(X, y, test_size = 0.20)\n",
        "\n",
        "# Setup the pipeline steps: steps\n",
        "steps = [('scaler', StandardScaler()),\n",
        "        ('SVM', SVC())]\n",
        "        \n",
        "# Create the pipeline: pipeline\n",
        "pipeline = Pipeline(steps)\n",
        "\n",
        "# Fit the pipeline to the training set: svc_scaled\n",
        "svc_scaled = pipeline.fit(X_train, y_train)\n",
        "\n",
        "# Instantiate and fit a classifier to the unscaled data\n",
        "svc_unscaled = SVC(kernel = 'linear').fit(X_train, y_train)\n",
        "\n",
        "# Compute and print metrics\n",
        "print('Accuracy with Scaling: {}'.format(svc_scaled.score(X_test, y_test)))\n",
        "print('Accuracy without Scaling: {}'.format(svc_unscaled.score(X_test, y_test)))\n"
      ]
    },
    {
      "cell_type": "markdown",
      "metadata": {
        "colab_type": "text",
        "id": "9bxO_NYuUJpN"
      },
      "source": [
        "### Generalization check\n",
        "Checking for overfitting or underfitting by comparing the training and testing scores of the model"
      ]
    },
    {
      "cell_type": "code",
      "execution_count": 21,
      "metadata": {
        "colab": {
          "base_uri": "https://localhost:8080/",
          "height": 51
        },
        "colab_type": "code",
        "id": "Ve1e2yVBivNT",
        "outputId": "46e085fa-7fe4-4a7b-da55-542f2d463c07"
      },
      "outputs": [
        {
          "name": "stdout",
          "output_type": "stream",
          "text": [
            "----train accuracy score 91.29017233348858 ----\n",
            "----test accuracy score 90.81315952824333 ----\n"
          ]
        }
      ],
      "source": [
        "train_acc = float(svc_scaled.score(X_train, y_train)*100)\n",
        "print(\"----train accuracy score %s ----\" % train_acc)\n",
        "\n",
        "test_acc = float(svc_scaled.score(X_test, y_test)*100)\n",
        "print(\"----test accuracy score %s ----\" % test_acc)"
      ]
    },
    {
      "cell_type": "code",
      "execution_count": 22,
      "metadata": {
        "colab": {},
        "colab_type": "code",
        "id": "JkMV4nVo2MBi"
      },
      "outputs": [],
      "source": [
        "scaled_predictions = svc_scaled.predict(X_test)"
      ]
    },
    {
      "cell_type": "markdown",
      "metadata": {
        "colab_type": "text",
        "id": "r_56D7h6WkOE"
      },
      "source": [
        "### Classification reports and Confusion Matrix"
      ]
    },
    {
      "cell_type": "code",
      "execution_count": 23,
      "metadata": {
        "colab": {
          "base_uri": "https://localhost:8080/",
          "height": 540
        },
        "colab_type": "code",
        "id": "oROt3FvXwMHK",
        "outputId": "58d34e5c-73fd-4f9e-fb52-9f7729523c5e"
      },
      "outputs": [
        {
          "name": "stdout",
          "output_type": "stream",
          "text": [
            "              precision    recall  f1-score   support\n",
            "\n",
            "       angry       0.95      0.94      0.94       258\n",
            "        calm       0.55      0.89      0.67        61\n",
            "     disgust       0.88      0.90      0.89       189\n",
            "        fear       0.92      0.91      0.92       237\n",
            "       happy       0.95      0.90      0.92       226\n",
            "     neutral       0.99      0.90      0.94       210\n",
            "         sad       0.90      0.88      0.89       227\n",
            "   surprised       0.93      0.93      0.93       203\n",
            "\n",
            "    accuracy                           0.91      1611\n",
            "   macro avg       0.88      0.91      0.89      1611\n",
            "weighted avg       0.92      0.91      0.91      1611\n",
            "\n",
            "----accuracy score 90.81315952824333 ----\n"
          ]
        },
        {
          "data": {
            "image/png": "[encoded data removed]",
            "text/plain": [
              "<Figure size 640x480 with 2 Axes>"
            ]
          },
          "metadata": {},
          "output_type": "display_data"
        }
      ],
      "source": [
        "from sklearn.metrics import classification_report, confusion_matrix,accuracy_score\n",
        "import seaborn as sn\n",
        "\n",
        "print(classification_report(y_test,scaled_predictions))\n",
        "\n",
        "acc = float(accuracy_score(y_test,scaled_predictions))*100\n",
        "print(\"----accuracy score %s ----\" % acc)\n",
        "\n",
        "cm = confusion_matrix(y_test,scaled_predictions)\n",
        "df_cm = pd.DataFrame(cm)\n",
        "sn.heatmap(df_cm, annot=True, fmt='')\n",
        "plt.show()"
      ]
    },
    {
      "cell_type": "markdown",
      "metadata": {
        "colab_type": "text",
        "id": "k7ay4Mx3WvIN"
      },
      "source": [
        "#### Cross Validation"
      ]
    },
    {
      "cell_type": "code",
      "execution_count": 24,
      "metadata": {
        "colab": {
          "base_uri": "https://localhost:8080/",
          "height": 34
        },
        "colab_type": "code",
        "id": "Yqo9QIL82ez-",
        "outputId": "ba6f2c4f-432d-42fe-f758-21e93bf9cb60"
      },
      "outputs": [
        {
          "name": "stdout",
          "output_type": "stream",
          "text": [
            "[0.90006207 0.89695841 0.88571429 0.88695652 0.89068323]\n"
          ]
        }
      ],
      "source": [
        "from sklearn.model_selection import cross_val_score\n",
        "\n",
        "# no. of folds cv = 5\n",
        "cv_results = cross_val_score(svc_scaled, X, y, cv = 5)\n",
        "print(cv_results)"
      ]
    },
    {
      "cell_type": "code",
      "execution_count": null,
      "metadata": {
        "colab": {},
        "colab_type": "code",
        "id": "C7Qsgs0H8Ijx"
      },
      "outputs": [],
      "source": []
    }
  ],
  "metadata": {
    "colab": {
      "collapsed_sections": [
        "gmyFS7Ajj4PZ",
        "0kWl4SbrtiUP"
      ],
      "name": "SER-SVM.ipynb",
      "provenance": []
    },
    "kernelspec": {
      "display_name": "Python 3.9.6 64-bit",
      "language": "python",
      "name": "python3"
    },
    "language_info": {
      "codemirror_mode": {
        "name": "ipython",
        "version": 3
      },
      "file_extension": ".py",
      "mimetype": "text/x-python",
      "name": "python",
      "nbconvert_exporter": "python",
      "pygments_lexer": "ipython3",
      "version": "3.9.6"
    },
    "vscode": {
      "interpreter": {
        "hash": "31f2aee4e71d21fbe5cf8b01ff0e069b9275f58929596ceb00d14d90e3e16cd6"
      }
    }
  },
  "nbformat": 4,
  "nbformat_minor": 0
}
