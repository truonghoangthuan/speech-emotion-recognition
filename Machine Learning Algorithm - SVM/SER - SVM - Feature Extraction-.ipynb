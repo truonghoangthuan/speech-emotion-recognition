{
 "cells": [
  {
   "cell_type": "markdown",
   "metadata": {},
   "source": [
    "# Speech Emotion Recognition - Feature Extraction\n",
    "\n",
    "Databases used\n",
    "\n",
    "* The Ryerson Audio-Visual Database of Emotional Speech and Song (RAVDESS)\n",
    "* Toronto emotional speech set (TESS)"
   ]
  },
  {
   "cell_type": "markdown",
   "metadata": {},
   "source": [
    "### Import Libraries\n",
    "\n",
    "Import necessary libraries"
   ]
  },
  {
   "cell_type": "code",
   "execution_count": 1,
   "metadata": {},
   "outputs": [
    {
     "name": "stdout",
     "output_type": "stream",
     "text": [
      "Defaulting to user installation because normal site-packages is not writeable\n",
      "Requirement already satisfied: pandas in /Users/truonghoangthuan/Library/Python/3.9/lib/python/site-packages (1.5.1)\n",
      "Requirement already satisfied: python-dateutil>=2.8.1 in /Users/truonghoangthuan/Library/Python/3.9/lib/python/site-packages (from pandas) (2.8.2)\n",
      "Requirement already satisfied: numpy>=1.20.3 in /Users/truonghoangthuan/Library/Python/3.9/lib/python/site-packages (from pandas) (1.23.4)\n",
      "Requirement already satisfied: pytz>=2020.1 in /Users/truonghoangthuan/Library/Python/3.9/lib/python/site-packages (from pandas) (2022.5)\n",
      "Requirement already satisfied: six>=1.5 in /Library/Developer/CommandLineTools/Library/Frameworks/Python3.framework/Versions/3.9/lib/python3.9/site-packages (from python-dateutil>=2.8.1->pandas) (1.15.0)\n",
      "\n",
      "\u001b[1m[\u001b[0m\u001b[34;49mnotice\u001b[0m\u001b[1;39;49m]\u001b[0m\u001b[39;49m A new release of pip available: \u001b[0m\u001b[31;49m22.3\u001b[0m\u001b[39;49m -> \u001b[0m\u001b[32;49m22.3.1\u001b[0m\n",
      "\u001b[1m[\u001b[0m\u001b[34;49mnotice\u001b[0m\u001b[1;39;49m]\u001b[0m\u001b[39;49m To update, run: \u001b[0m\u001b[32;49m/Library/Developer/CommandLineTools/usr/bin/python3 -m pip install --upgrade pip\u001b[0m\n",
      "Note: you may need to restart the kernel to use updated packages.\n"
     ]
    }
   ],
   "source": [
    "%pip install pandas"
   ]
  },
  {
   "cell_type": "code",
   "execution_count": 2,
   "metadata": {
    "colab": {},
    "colab_type": "code",
    "id": "4Psuv3UPLaPR"
   },
   "outputs": [],
   "source": [
    "import glob\n",
    "import os\n",
    "import librosa\n",
    "import time\n",
    "import numpy as np\n",
    "import pandas as pd"
   ]
  },
  {
   "cell_type": "markdown",
   "metadata": {
    "colab_type": "text",
    "id": "rBpIgx9bkdgJ"
   },
   "source": [
    "### Load all files\n",
    "\n",
    "We will create our numpy array extracting Mel-frequency cepstral coefficients (MFCCs) while the classes to predict will be extracted from the name of the file."
   ]
  },
  {
   "cell_type": "markdown",
   "metadata": {},
   "source": [
    "#### Defining emotions to classify \n",
    "\n",
    "Selecting the emotions to be classified. Note that the emotions 'neutral', 'calm' and 'surprised' are only found in RAVDESS dataset and 'pleasantly surprised' or 'ps' is only available in TESS dataset. To combine all the emotions from both datasets into 8 emotion classes, we have changed 'pleasantly surprised' to 'surprised' and 'fearful' to 'fear'"
   ]
  },
  {
   "cell_type": "code",
   "execution_count": 3,
   "metadata": {
    "colab": {},
    "colab_type": "code",
    "id": "s16XwP5LK8a3"
   },
   "outputs": [],
   "source": [
    "emotions={\n",
    "  '01':'neutral',\n",
    "  '02':'calm',\n",
    "  '03':'happy',\n",
    "  '04':'sad',\n",
    "  '05':'angry',\n",
    "  '06':'fear',\n",
    "  '07':'disgust',\n",
    "  '08':'surprised'\n",
    "}\n",
    "\n",
    "#defined tess emotions to test on TESS dataset only\n",
    "tess_emotions=['angry','disgust','fear','ps','happy','sad']\n",
    "\n",
    "##defined RAVDESS emotions to test on RAVDESS dataset only\n",
    "ravdess_emotions=['neutral','calm','angry', 'happy','disgust','sad','fear','surprised']\n",
    "\n",
    "observed_emotions = ['sad','angry','happy','disgust','surprised','neutral','calm','fear']"
   ]
  },
  {
   "cell_type": "markdown",
   "metadata": {},
   "source": [
    "#### Feature extraction\n",
    "\n",
    "Using librosa package we can extract the MFCC features. This function loads the file give the file path and after resampling and computing MFCC features, returns the features. We have selected the no. of MFCCs as 40.\n",
    "\n",
    "https://librosa.org/librosa/generated/librosa.feature.mfcc.html"
   ]
  },
  {
   "cell_type": "code",
   "execution_count": 4,
   "metadata": {
    "colab": {},
    "colab_type": "code",
    "id": "h9a81pkWLCs1"
   },
   "outputs": [],
   "source": [
    "def extract_feature(file_name, mfcc):\n",
    "    X, sample_rate = librosa.load(os.path.join(file_name), res_type='kaiser_fast')\n",
    "    result=0\n",
    "    if mfcc:\n",
    "        mfccs=np.mean(librosa.feature.mfcc(y=X, sr=sample_rate, n_mfcc=40).T, axis=0)\n",
    "        result=np.hstack((result, mfccs))\n",
    "    return result"
   ]
  },
  {
   "cell_type": "markdown",
   "metadata": {},
   "source": [
    "#### Choosing a dataset\n",
    "\n",
    "Choose the dataset(s) you want to load using the following function"
   ]
  },
  {
   "cell_type": "code",
   "execution_count": 5,
   "metadata": {},
   "outputs": [],
   "source": [
    "def dataset_options():\n",
    "    # choose datasets\n",
    "    ravdess = True\n",
    "    tess = True\n",
    "    ravdess_speech = False\n",
    "    ravdess_song = False\n",
    "    data = {'ravdess':ravdess, 'ravdess_speech':ravdess_speech, 'ravdess_song':ravdess_song, 'tess':tess}\n",
    "    print(data)\n",
    "    return data"
   ]
  },
  {
   "cell_type": "markdown",
   "metadata": {},
   "source": [
    "#### Load data\n",
    "\n",
    "Load data from the datasets required which is obtained by calling the function dataset__options(). Extract features from each file with the selected emotions in chosen datasets using the extract_feature() function defined."
   ]
  },
  {
   "cell_type": "code",
   "execution_count": 6,
   "metadata": {
    "colab": {},
    "colab_type": "code",
    "id": "RaV2hMcxLGZd"
   },
   "outputs": [],
   "source": [
    "def load_data(test_size=0.2): \n",
    "    x,y=[],[]\n",
    "    \n",
    "    # feature to extract\n",
    "    mfcc = True\n",
    "    \n",
    "    data = dataset_options()\n",
    "    paths = []\n",
    "    if data['ravdess']:\n",
    "        paths.append(\"../dataset_features/Actor_*/*.wav\")\n",
    "    elif data['ravdess_speech']:\n",
    "        paths.append(\"..\\Datasets\\RAVDESS\\Speech\\Actor_*\\*.wav\")\n",
    "    elif data['ravdess_song']:\n",
    "        paths.append(\"..\\Datasets\\RAVDESS\\Song\\Actor_*\\*.wav\")\n",
    "        \n",
    "    for path in paths:\n",
    "        for file in glob.glob(path):\n",
    "            file_name=os.path.basename(file)\n",
    "            emotion=emotions[file_name.split(\"-\")[2]] #to get emotion according to filename. dictionary emotions is defined above.\n",
    "            if emotion not in observed_emotions: #options observed_emotions - RAVDESS and TESS, ravdess_emotions for RAVDESS only\n",
    "                continue\n",
    "            feature=extract_feature(file, mfcc)\n",
    "            x.append(feature)\n",
    "            y.append(emotion)\n",
    "    if data['tess']:\n",
    "        for file in glob.glob(\"../TESS_Toronto_emotional_speech_set_data/*AF_*/*.wav\"):\n",
    "            file_name=os.path.basename(file)\n",
    "            emotion=file_name.split(\"_\")[2][:-4] #split and remove .wav\n",
    "            if emotion == 'ps':\n",
    "                emotion = 'surprised'\n",
    "            if emotion not in observed_emotions: #options observed_emotions - RAVDESS and TESS, ravdess_emotions for RAVDESS only\n",
    "                continue\n",
    "            feature=extract_feature(file, mfcc)\n",
    "            x.append(feature)\n",
    "            y.append(emotion)\n",
    "    return {\"X\":x,\"y\":y}"
   ]
  },
  {
   "cell_type": "code",
   "execution_count": 7,
   "metadata": {
    "colab": {
     "base_uri": "https://localhost:8080/",
     "height": 34
    },
    "colab_type": "code",
    "id": "LVbx68UMLMAT",
    "outputId": "51a46f14-72ff-4825-83c5-0ce8673f5307"
   },
   "outputs": [
    {
     "name": "stdout",
     "output_type": "stream",
     "text": [
      "{'ravdess': True, 'ravdess_speech': False, 'ravdess_song': False, 'tess': True}\n",
      "--- Data loaded. Loading time: 172.2438359260559 seconds ---\n"
     ]
    }
   ],
   "source": [
    "start_time = time.time()\n",
    "\n",
    "Trial_dict = load_data(test_size = 0.3)\n",
    "\n",
    "print(\"--- Data loaded. Loading time: %s seconds ---\" % (time.time() - start_time))"
   ]
  },
  {
   "cell_type": "code",
   "execution_count": 8,
   "metadata": {
    "colab": {},
    "colab_type": "code",
    "id": "-WAO-j4iLPSn"
   },
   "outputs": [],
   "source": [
    "X = pd.DataFrame(Trial_dict[\"X\"])\n",
    "y = pd.DataFrame(Trial_dict[\"y\"])"
   ]
  },
  {
   "cell_type": "code",
   "execution_count": 9,
   "metadata": {
    "colab": {
     "base_uri": "https://localhost:8080/",
     "height": 34
    },
    "colab_type": "code",
    "id": "Huw2Md1XLQZm",
    "outputId": "6a6cf90d-8449-4990-8bce-af37d4b50706"
   },
   "outputs": [
    {
     "data": {
      "text/plain": [
       "((8052, 41), (8052, 1))"
      ]
     },
     "execution_count": 9,
     "metadata": {},
     "output_type": "execute_result"
    }
   ],
   "source": [
    "X.shape, y.shape"
   ]
  },
  {
   "cell_type": "code",
   "execution_count": 10,
   "metadata": {},
   "outputs": [],
   "source": [
    "#renaming the label column to emotion\n",
    "y=y.rename(columns= {0: 'emotion'})"
   ]
  },
  {
   "cell_type": "code",
   "execution_count": 11,
   "metadata": {},
   "outputs": [],
   "source": [
    "#concatinating the attributes and label into a single dataframe\n",
    "data = pd.concat([X, y], axis =1)"
   ]
  },
  {
   "cell_type": "code",
   "execution_count": 12,
   "metadata": {},
   "outputs": [
    {
     "data": {
      "text/html": [
       "<div>\n",
       "<style scoped>\n",
       "    .dataframe tbody tr th:only-of-type {\n",
       "        vertical-align: middle;\n",
       "    }\n",
       "\n",
       "    .dataframe tbody tr th {\n",
       "        vertical-align: top;\n",
       "    }\n",
       "\n",
       "    .dataframe thead th {\n",
       "        text-align: right;\n",
       "    }\n",
       "</style>\n",
       "<table border=\"1\" class=\"dataframe\">\n",
       "  <thead>\n",
       "    <tr style=\"text-align: right;\">\n",
       "      <th></th>\n",
       "      <th>0</th>\n",
       "      <th>1</th>\n",
       "      <th>2</th>\n",
       "      <th>3</th>\n",
       "      <th>4</th>\n",
       "      <th>5</th>\n",
       "      <th>6</th>\n",
       "      <th>7</th>\n",
       "      <th>8</th>\n",
       "      <th>9</th>\n",
       "      <th>...</th>\n",
       "      <th>32</th>\n",
       "      <th>33</th>\n",
       "      <th>34</th>\n",
       "      <th>35</th>\n",
       "      <th>36</th>\n",
       "      <th>37</th>\n",
       "      <th>38</th>\n",
       "      <th>39</th>\n",
       "      <th>40</th>\n",
       "      <th>emotion</th>\n",
       "    </tr>\n",
       "  </thead>\n",
       "  <tbody>\n",
       "    <tr>\n",
       "      <th>0</th>\n",
       "      <td>0.0</td>\n",
       "      <td>-544.942505</td>\n",
       "      <td>37.640598</td>\n",
       "      <td>-7.628289</td>\n",
       "      <td>6.864829</td>\n",
       "      <td>-13.380677</td>\n",
       "      <td>-2.417591</td>\n",
       "      <td>-12.137745</td>\n",
       "      <td>-8.057130</td>\n",
       "      <td>-14.836030</td>\n",
       "      <td>...</td>\n",
       "      <td>3.623613</td>\n",
       "      <td>-0.405900</td>\n",
       "      <td>0.782749</td>\n",
       "      <td>0.000128</td>\n",
       "      <td>2.697446</td>\n",
       "      <td>0.803102</td>\n",
       "      <td>1.826188</td>\n",
       "      <td>-0.609255</td>\n",
       "      <td>1.844422</td>\n",
       "      <td>angry</td>\n",
       "    </tr>\n",
       "    <tr>\n",
       "      <th>1</th>\n",
       "      <td>0.0</td>\n",
       "      <td>-523.922180</td>\n",
       "      <td>36.252670</td>\n",
       "      <td>-19.905519</td>\n",
       "      <td>12.971987</td>\n",
       "      <td>-9.616239</td>\n",
       "      <td>-15.922702</td>\n",
       "      <td>-15.657978</td>\n",
       "      <td>-8.893445</td>\n",
       "      <td>-14.755669</td>\n",
       "      <td>...</td>\n",
       "      <td>2.381103</td>\n",
       "      <td>-6.505177</td>\n",
       "      <td>-6.485410</td>\n",
       "      <td>-2.818655</td>\n",
       "      <td>1.587407</td>\n",
       "      <td>0.349844</td>\n",
       "      <td>1.351712</td>\n",
       "      <td>6.588575</td>\n",
       "      <td>7.494193</td>\n",
       "      <td>happy</td>\n",
       "    </tr>\n",
       "    <tr>\n",
       "      <th>2</th>\n",
       "      <td>0.0</td>\n",
       "      <td>-553.291931</td>\n",
       "      <td>40.790520</td>\n",
       "      <td>-9.492151</td>\n",
       "      <td>8.202779</td>\n",
       "      <td>-5.402720</td>\n",
       "      <td>-6.108304</td>\n",
       "      <td>-17.632957</td>\n",
       "      <td>-11.217481</td>\n",
       "      <td>-11.315104</td>\n",
       "      <td>...</td>\n",
       "      <td>0.095194</td>\n",
       "      <td>-0.738742</td>\n",
       "      <td>0.245738</td>\n",
       "      <td>-0.519077</td>\n",
       "      <td>0.679776</td>\n",
       "      <td>0.222292</td>\n",
       "      <td>0.895804</td>\n",
       "      <td>0.158789</td>\n",
       "      <td>0.276128</td>\n",
       "      <td>fear</td>\n",
       "    </tr>\n",
       "    <tr>\n",
       "      <th>3</th>\n",
       "      <td>0.0</td>\n",
       "      <td>-393.324371</td>\n",
       "      <td>22.974743</td>\n",
       "      <td>-31.079159</td>\n",
       "      <td>4.853052</td>\n",
       "      <td>-13.357388</td>\n",
       "      <td>-12.805939</td>\n",
       "      <td>-17.525320</td>\n",
       "      <td>-9.771192</td>\n",
       "      <td>-12.389983</td>\n",
       "      <td>...</td>\n",
       "      <td>-2.133341</td>\n",
       "      <td>-2.658438</td>\n",
       "      <td>0.480609</td>\n",
       "      <td>1.072412</td>\n",
       "      <td>2.033163</td>\n",
       "      <td>2.564418</td>\n",
       "      <td>1.277522</td>\n",
       "      <td>0.809124</td>\n",
       "      <td>2.371578</td>\n",
       "      <td>fear</td>\n",
       "    </tr>\n",
       "    <tr>\n",
       "      <th>4</th>\n",
       "      <td>0.0</td>\n",
       "      <td>-587.782104</td>\n",
       "      <td>43.909641</td>\n",
       "      <td>-17.656189</td>\n",
       "      <td>13.169994</td>\n",
       "      <td>-7.121557</td>\n",
       "      <td>-13.213776</td>\n",
       "      <td>-12.981407</td>\n",
       "      <td>-11.661613</td>\n",
       "      <td>-12.594745</td>\n",
       "      <td>...</td>\n",
       "      <td>3.169533</td>\n",
       "      <td>-4.859682</td>\n",
       "      <td>-6.721389</td>\n",
       "      <td>-4.410873</td>\n",
       "      <td>1.020319</td>\n",
       "      <td>0.567670</td>\n",
       "      <td>0.182629</td>\n",
       "      <td>5.530495</td>\n",
       "      <td>8.593582</td>\n",
       "      <td>happy</td>\n",
       "    </tr>\n",
       "  </tbody>\n",
       "</table>\n",
       "<p>5 rows × 42 columns</p>\n",
       "</div>"
      ],
      "text/plain": [
       "     0           1          2          3          4          5          6  \\\n",
       "0  0.0 -544.942505  37.640598  -7.628289   6.864829 -13.380677  -2.417591   \n",
       "1  0.0 -523.922180  36.252670 -19.905519  12.971987  -9.616239 -15.922702   \n",
       "2  0.0 -553.291931  40.790520  -9.492151   8.202779  -5.402720  -6.108304   \n",
       "3  0.0 -393.324371  22.974743 -31.079159   4.853052 -13.357388 -12.805939   \n",
       "4  0.0 -587.782104  43.909641 -17.656189  13.169994  -7.121557 -13.213776   \n",
       "\n",
       "           7          8          9  ...        32        33        34  \\\n",
       "0 -12.137745  -8.057130 -14.836030  ...  3.623613 -0.405900  0.782749   \n",
       "1 -15.657978  -8.893445 -14.755669  ...  2.381103 -6.505177 -6.485410   \n",
       "2 -17.632957 -11.217481 -11.315104  ...  0.095194 -0.738742  0.245738   \n",
       "3 -17.525320  -9.771192 -12.389983  ... -2.133341 -2.658438  0.480609   \n",
       "4 -12.981407 -11.661613 -12.594745  ...  3.169533 -4.859682 -6.721389   \n",
       "\n",
       "         35        36        37        38        39        40  emotion  \n",
       "0  0.000128  2.697446  0.803102  1.826188 -0.609255  1.844422    angry  \n",
       "1 -2.818655  1.587407  0.349844  1.351712  6.588575  7.494193    happy  \n",
       "2 -0.519077  0.679776  0.222292  0.895804  0.158789  0.276128     fear  \n",
       "3  1.072412  2.033163  2.564418  1.277522  0.809124  2.371578     fear  \n",
       "4 -4.410873  1.020319  0.567670  0.182629  5.530495  8.593582    happy  \n",
       "\n",
       "[5 rows x 42 columns]"
      ]
     },
     "execution_count": 12,
     "metadata": {},
     "output_type": "execute_result"
    }
   ],
   "source": [
    "data.head()"
   ]
  },
  {
   "cell_type": "markdown",
   "metadata": {},
   "source": [
    "## Shuffling data"
   ]
  },
  {
   "cell_type": "code",
   "execution_count": 13,
   "metadata": {},
   "outputs": [],
   "source": [
    "#reindexing to shuffle the data at random\n",
    "data = data.reindex(np.random.permutation(data.index))"
   ]
  },
  {
   "cell_type": "code",
   "execution_count": 14,
   "metadata": {},
   "outputs": [],
   "source": [
    "# Storing shuffled ravdess and tess data to avoid loading again\n",
    "data.to_csv(\"RAVTESS_MFCC_Observed.csv\")"
   ]
  },
  {
   "cell_type": "code",
   "execution_count": null,
   "metadata": {},
   "outputs": [],
   "source": []
  }
 ],
 "metadata": {
  "colab": {
   "collapsed_sections": [],
   "name": "SVM trial 2.ipynb",
   "provenance": []
  },
  "kernelspec": {
   "display_name": "Python 3.9.6 64-bit",
   "language": "python",
   "name": "python3"
  },
  "language_info": {
   "codemirror_mode": {
    "name": "ipython",
    "version": 3
   },
   "file_extension": ".py",
   "mimetype": "text/x-python",
   "name": "python",
   "nbconvert_exporter": "python",
   "pygments_lexer": "ipython3",
   "version": "3.9.6"
  },
  "vscode": {
   "interpreter": {
    "hash": "31f2aee4e71d21fbe5cf8b01ff0e069b9275f58929596ceb00d14d90e3e16cd6"
   }
  }
 },
 "nbformat": 4,
 "nbformat_minor": 1
}
