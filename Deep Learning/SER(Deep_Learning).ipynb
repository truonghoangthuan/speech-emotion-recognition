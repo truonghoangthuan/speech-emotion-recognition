{
  "nbformat": 4,
  "nbformat_minor": 0,
  "metadata": {
    "colab": {
      "name": "Testing10(Deep Learning).ipynb",
      "provenance": [],
      "collapsed_sections": []
    },
    "kernelspec": {
      "name": "python3",
      "display_name": "Python 3"
    }
  },
  "cells": [
    {
      "cell_type": "markdown",
      "metadata": {
        "colab_type": "text",
        "id": "CjWvnaQUrZmD"
      },
      "source": [
        "# Speech Emotion Recognition using the RAVDESS AND TESS dataset"
      ]
    },
    {
      "cell_type": "markdown",
      "metadata": {
        "id": "uxVUuvOQnG_H",
        "colab_type": "text"
      },
      "source": [
        "For this task, I have used 5252 samples from\n",
        "\n",
        "the Ryerson Audio-Visual Database of Emotional Speech and Song (RAVDESS) dataset\n",
        "the Toronto emotional speech set (TESS) dataset\n",
        "The samples include:\n",
        "\n",
        "**1440 **speech files and **1012** Song files from **RAVDESS**. This dataset includes recordings of 24 professional actors (12 female, 12 male), vocalizing two lexically-matched statements in a neutral North American accent. Speech includes calm, happy, sad, angry, fearful, surprise, and disgust expressions, and song contains calm, happy, sad, angry, and fearful emotions. Each file was rated 10 times on emotional validity, intensity, and genuineness. Ratings were provided by 247 individuals who were characteristic of untrained adult research participants from North America. A further set of 72 participants provided test-retest data. High levels of emotional validity, interrater reliability, and test-retest intrarater reliability were reported. Validation data is open-access, and can be downloaded along with our paper from PLoS ONE.\n",
        "\n",
        "**2800** files from **TESS**. A set of 200 target words were spoken in the carrier phrase \"Say the word _____' by two actresses (aged 26 and 64 years) and recordings were made of the set portraying each of seven emotions (anger, disgust, fear, happiness, pleasant surprise, sadness, and neutral). There are 2800 stimuli in total. Two actresses were recruited from the Toronto area. Both actresses speak English as their first language, are university educated, and have musical training. Audiometric testing indicated that both actresses have thresholds within the normal range."
      ]
    },
    {
      "cell_type": "markdown",
      "metadata": {
        "id": "9tXShPTZno76",
        "colab_type": "text"
      },
      "source": [
        "Mounting Drive so that we can access the contents directly from the drive"
      ]
    },
    {
      "cell_type": "code",
      "metadata": {
        "id": "o94IYrgInXFX",
        "colab_type": "code",
        "colab": {
          "base_uri": "https://localhost:8080/",
          "height": 126
        },
        "outputId": "aaf90ae0-8af4-4835-8dcd-185d366496c9"
      },
      "source": [
        "from google.colab import drive\n",
        "drive.mount('/content/drive')"
      ],
      "execution_count": null,
      "outputs": [
        {
          "output_type": "stream",
          "text": [
            "Go to this URL in a browser: https://accounts.google.com/o/oauth2/auth?client_id=947318989803-6bn6qk8qdgf4n4g3pfee6491hc0brc4i.apps.googleusercontent.com&redirect_uri=urn%3aietf%3awg%3aoauth%3a2.0%3aoob&response_type=code&scope=email%20https%3a%2f%2fwww.googleapis.com%2fauth%2fdocs.test%20https%3a%2f%2fwww.googleapis.com%2fauth%2fdrive%20https%3a%2f%2fwww.googleapis.com%2fauth%2fdrive.photos.readonly%20https%3a%2f%2fwww.googleapis.com%2fauth%2fpeopleapi.readonly\n",
            "\n",
            "Enter your authorization code:\n",
            "··········\n",
            "Mounted at /content/drive\n"
          ],
          "name": "stdout"
        }
      ]
    },
    {
      "cell_type": "markdown",
      "metadata": {
        "id": "67STjT5On4Wf",
        "colab_type": "text"
      },
      "source": [
        "Importing Librosa library(A python package) for extracting important features of the audio like the pitch,tone."
      ]
    },
    {
      "cell_type": "code",
      "metadata": {
        "id": "N3b7x9shnZwp",
        "colab_type": "code",
        "colab": {
          "base_uri": "https://localhost:8080/",
          "height": 228
        },
        "outputId": "3c16d672-0775-48b3-ba3d-37825f42da05"
      },
      "source": [
        "!pip install librosa"
      ],
      "execution_count": null,
      "outputs": [
        {
          "output_type": "stream",
          "text": [
            "Requirement already satisfied: librosa in /usr/local/lib/python3.6/dist-packages (0.6.3)\n",
            "Requirement already satisfied: six>=1.3 in /usr/local/lib/python3.6/dist-packages (from librosa) (1.12.0)\n",
            "Requirement already satisfied: joblib>=0.12 in /usr/local/lib/python3.6/dist-packages (from librosa) (0.15.1)\n",
            "Requirement already satisfied: numpy>=1.8.0 in /usr/local/lib/python3.6/dist-packages (from librosa) (1.18.4)\n",
            "Requirement already satisfied: numba>=0.38.0 in /usr/local/lib/python3.6/dist-packages (from librosa) (0.48.0)\n",
            "Requirement already satisfied: scipy>=1.0.0 in /usr/local/lib/python3.6/dist-packages (from librosa) (1.4.1)\n",
            "Requirement already satisfied: scikit-learn!=0.19.0,>=0.14.0 in /usr/local/lib/python3.6/dist-packages (from librosa) (0.22.2.post1)\n",
            "Requirement already satisfied: audioread>=2.0.0 in /usr/local/lib/python3.6/dist-packages (from librosa) (2.1.8)\n",
            "Requirement already satisfied: decorator>=3.0.0 in /usr/local/lib/python3.6/dist-packages (from librosa) (4.4.2)\n",
            "Requirement already satisfied: resampy>=0.2.0 in /usr/local/lib/python3.6/dist-packages (from librosa) (0.2.2)\n",
            "Requirement already satisfied: setuptools in /usr/local/lib/python3.6/dist-packages (from numba>=0.38.0->librosa) (46.3.0)\n",
            "Requirement already satisfied: llvmlite<0.32.0,>=0.31.0dev0 in /usr/local/lib/python3.6/dist-packages (from numba>=0.38.0->librosa) (0.31.0)\n"
          ],
          "name": "stdout"
        }
      ]
    },
    {
      "cell_type": "markdown",
      "metadata": {
        "id": "ywPJyaHHpOGE",
        "colab_type": "text"
      },
      "source": [
        "Loading one audio file from the drive using librosa.\n",
        "Librosa loads the audio file as a floating point time series."
      ]
    },
    {
      "cell_type": "code",
      "metadata": {
        "id": "aWgCbHxAn1_h",
        "colab_type": "code",
        "colab": {}
      },
      "source": [
        "import librosa\n",
        "from librosa import display\n",
        "\n",
        "data, sampling_rate = librosa.load('/content/drive/My Drive/Ravtess/03-02-06-02-02-02-04.wav')"
      ],
      "execution_count": null,
      "outputs": []
    },
    {
      "cell_type": "markdown",
      "metadata": {
        "id": "Vi77VvlppM5d",
        "colab_type": "text"
      },
      "source": [
        "Plotting the audio file which was just loaded by librosa using waveplot function of librosa.This Function Plots the amplitude envelope of a waveform."
      ]
    },
    {
      "cell_type": "code",
      "metadata": {
        "id": "hZintfRxqK1A",
        "colab_type": "code",
        "colab": {
          "base_uri": "https://localhost:8080/",
          "height": 367
        },
        "outputId": "bf38ea0c-a176-453b-9ddc-3e4bfb57f2a5"
      },
      "source": [
        "% pylab inline\n",
        "import matplotlib.pyplot as plt\n",
        "\n",
        "plt.figure(figsize=(12, 4))\n",
        "librosa.display.waveplot(data, sr=sampling_rate)"
      ],
      "execution_count": null,
      "outputs": [
        {
          "output_type": "stream",
          "text": [
            "Populating the interactive namespace from numpy and matplotlib\n"
          ],
          "name": "stdout"
        },
        {
          "output_type": "stream",
          "text": [
            "/usr/local/lib/python3.6/dist-packages/IPython/core/magics/pylab.py:161: UserWarning: pylab import has clobbered these variables: ['display']\n",
            "`%matplotlib` prevents importing * from pylab and numpy\n",
            "  \"\\n`%matplotlib` prevents importing * from pylab and numpy\"\n"
          ],
          "name": "stderr"
        },
        {
          "output_type": "execute_result",
          "data": {
            "text/plain": [
              "<matplotlib.collections.PolyCollection at 0x7f9bfaa9dfd0>"
            ]
          },
          "metadata": {
            "tags": []
          },
          "execution_count": 4
        },
        {
          "output_type": "display_data",
          "data": {
            "image/png": "[encoded data removed]",
            "text/plain": [
              "<Figure size 864x288 with 1 Axes>"
            ]
          },
          "metadata": {
            "tags": [],
            "needs_background": "light"
          }
        }
      ]
    },
    {
      "cell_type": "markdown",
      "metadata": {
        "id": "jPKKk4wEpMMW",
        "colab_type": "text"
      },
      "source": [
        "# Load all files\n",
        "\n",
        "We will create our numpy array extracting Mel-frequency cepstral coefficients (MFCCs), while the classes to predict will be extracted from the name of the file (see the introductory section of this notebook to see the naming convention of the files of this dataset)."
      ]
    },
    {
      "cell_type": "code",
      "metadata": {
        "id": "ZdxY8LUotJCU",
        "colab_type": "code",
        "colab": {
          "base_uri": "https://localhost:8080/",
          "height": 34
        },
        "outputId": "5e2390c6-afe1-4cea-c73b-db71200ebe49"
      },
      "source": [
        "import time\n",
        "import os\n",
        "path = '/content/drive/My Drive/Ravtess/'\n",
        "lst = []\n",
        "\n",
        "start_time = time.time()\n",
        "\n",
        "for subdir, dirs, files in os.walk(path):\n",
        "  for file in files:\n",
        "      try:\n",
        "        #Load librosa array, obtain mfcss, store the file and the mcss information in a new array\n",
        "        X, sample_rate = librosa.load(os.path.join(subdir,file), res_type='kaiser_fast')\n",
        "        mfccs = np.mean(librosa.feature.mfcc(y=X, sr=sample_rate, n_mfcc=40).T,axis=0) \n",
        "        # The instruction below converts the labels (from 1 to 8) to a series from 0 to 7\n",
        "        # This is because our predictor needs to start from 0 otherwise it will try to predict also 0.\n",
        "        file = int(file[7:8]) - 1 \n",
        "        arr = mfccs, file\n",
        "        lst.append(arr)\n",
        "      # If the file is not valid, skip it\n",
        "      except ValueError:\n",
        "        continue\n",
        "\n",
        "print(\"--- Data loaded. Loading time: %s seconds ---\" % (time.time() - start_time))"
      ],
      "execution_count": null,
      "outputs": [
        {
          "output_type": "stream",
          "text": [
            "--- Data loaded. Loading time: 2225.022324323654 seconds ---\n"
          ],
          "name": "stdout"
        }
      ]
    },
    {
      "cell_type": "code",
      "metadata": {
        "id": "Mi8NEOUItS8f",
        "colab_type": "code",
        "colab": {}
      },
      "source": [
        "# Creating X and y: zip makes a list of all the first elements, and a list of all the second elements.\n",
        "X, y = zip(*lst)"
      ],
      "execution_count": null,
      "outputs": []
    },
    {
      "cell_type": "code",
      "metadata": {
        "id": "Gd6hsVYjukTK",
        "colab_type": "code",
        "colab": {
          "base_uri": "https://localhost:8080/",
          "height": 34
        },
        "outputId": "8de85110-e0d5-4411-a5c6-523c117176dc"
      },
      "source": [
        "import numpy as np\n",
        "X = np.asarray(X)\n",
        "y = np.asarray(y)\n",
        "\n",
        "\n",
        "X.shape, y.shape"
      ],
      "execution_count": null,
      "outputs": [
        {
          "output_type": "execute_result",
          "data": {
            "text/plain": [
              "((5252, 40), (5252,))"
            ]
          },
          "metadata": {
            "tags": []
          },
          "execution_count": 8
        }
      ]
    },
    {
      "cell_type": "code",
      "metadata": {
        "id": "hK5XIQ4hunMH",
        "colab_type": "code",
        "colab": {}
      },
      "source": [
        "# Saving joblib files to not load them again with the loop above\n",
        "\n",
        "import joblib\n",
        "\n",
        "X_name = 'X.joblib'\n",
        "y_name = 'y.joblib'\n",
        "save_dir = '/content/drive/My Drive/Ravtess_model'\n",
        "\n",
        "savedX = joblib.dump(X, os.path.join(save_dir, X_name))\n",
        "savedy = joblib.dump(y, os.path.join(save_dir, y_name))"
      ],
      "execution_count": null,
      "outputs": []
    },
    {
      "cell_type": "code",
      "metadata": {
        "id": "iMEMavtnu2LB",
        "colab_type": "code",
        "colab": {}
      },
      "source": [
        "# Loading saved models\n",
        "import joblib\n",
        "X = joblib.load('/content/drive/My Drive/Ravtess_model/X.joblib')\n",
        "y = joblib.load('/content/drive/My Drive/Ravtess_model/y.joblib')"
      ],
      "execution_count": null,
      "outputs": []
    },
    {
      "cell_type": "markdown",
      "metadata": {
        "colab_type": "text",
        "id": "Agw-3KN1sDhh"
      },
      "source": [
        "# Decision Tree Classifier\n",
        "\n",
        "To make a first attempt in accomplishing this classification task I chose a decision tree:"
      ]
    },
    {
      "cell_type": "code",
      "metadata": {
        "id": "CR4t166IxGdi",
        "colab_type": "code",
        "colab": {}
      },
      "source": [
        "from sklearn.model_selection import train_test_split\n",
        "\n",
        "X_train, X_test, y_train, y_test = train_test_split(X,y, test_size=0.33, random_state=42)"
      ],
      "execution_count": null,
      "outputs": []
    },
    {
      "cell_type": "code",
      "metadata": {
        "id": "L_aIVuq9xKgn",
        "colab_type": "code",
        "colab": {}
      },
      "source": [
        "from sklearn.tree import DecisionTreeClassifier"
      ],
      "execution_count": null,
      "outputs": []
    },
    {
      "cell_type": "code",
      "metadata": {
        "id": "PRh12VK70wwh",
        "colab_type": "code",
        "colab": {}
      },
      "source": [
        "dtree = DecisionTreeClassifier()"
      ],
      "execution_count": null,
      "outputs": []
    },
    {
      "cell_type": "code",
      "metadata": {
        "id": "jBbgNaz50zPt",
        "colab_type": "code",
        "colab": {
          "base_uri": "https://localhost:8080/",
          "height": 122
        },
        "outputId": "9c63f143-8108-426a-d682-36284c1634dc"
      },
      "source": [
        "dtree.fit(X_train, y_train)"
      ],
      "execution_count": null,
      "outputs": [
        {
          "output_type": "execute_result",
          "data": {
            "text/plain": [
              "DecisionTreeClassifier(ccp_alpha=0.0, class_weight=None, criterion='gini',\n",
              "                       max_depth=None, max_features=None, max_leaf_nodes=None,\n",
              "                       min_impurity_decrease=0.0, min_impurity_split=None,\n",
              "                       min_samples_leaf=1, min_samples_split=2,\n",
              "                       min_weight_fraction_leaf=0.0, presort='deprecated',\n",
              "                       random_state=None, splitter='best')"
            ]
          },
          "metadata": {
            "tags": []
          },
          "execution_count": 24
        }
      ]
    },
    {
      "cell_type": "code",
      "metadata": {
        "id": "xtx3jG6v01v1",
        "colab_type": "code",
        "colab": {}
      },
      "source": [
        "predictions = dtree.predict(X_test)"
      ],
      "execution_count": null,
      "outputs": []
    },
    {
      "cell_type": "code",
      "metadata": {
        "id": "mbWRTHjm06Hn",
        "colab_type": "code",
        "colab": {
          "base_uri": "https://localhost:8080/",
          "height": 281
        },
        "outputId": "7510b3bb-df6e-4ce1-8ef2-94b019570bc7"
      },
      "source": [
        "from sklearn.metrics import classification_report,confusion_matrix\n",
        "print(classification_report(y_test,predictions))"
      ],
      "execution_count": null,
      "outputs": [
        {
          "output_type": "stream",
          "text": [
            "              precision    recall  f1-score   support\n",
            "\n",
            "           0       0.82      0.79      0.80       190\n",
            "           1       0.61      0.54      0.57       117\n",
            "           2       0.65      0.65      0.65       266\n",
            "           3       0.72      0.75      0.73       246\n",
            "           4       0.71      0.73      0.72       265\n",
            "           5       0.64      0.65      0.65       246\n",
            "           6       0.59      0.66      0.62       202\n",
            "           7       0.69      0.60      0.64       202\n",
            "\n",
            "    accuracy                           0.68      1734\n",
            "   macro avg       0.68      0.67      0.67      1734\n",
            "weighted avg       0.68      0.68      0.68      1734\n",
            "\n"
          ],
          "name": "stdout"
        }
      ]
    },
    {
      "cell_type": "markdown",
      "metadata": {
        "colab_type": "text",
        "id": "t9eqMHV3S8i6"
      },
      "source": [
        "# Neural network"
      ]
    },
    {
      "cell_type": "code",
      "metadata": {
        "id": "nIhRgcH3B0gu",
        "colab_type": "code",
        "colab": {}
      },
      "source": [
        "import numpy as np\n",
        "x_traincnn = np.expand_dims(X_train, axis=2)\n",
        "x_testcnn = np.expand_dims(X_test, axis=2)"
      ],
      "execution_count": null,
      "outputs": []
    },
    {
      "cell_type": "code",
      "metadata": {
        "id": "XRg78iarB1OI",
        "colab_type": "code",
        "colab": {
          "base_uri": "https://localhost:8080/",
          "height": 35
        },
        "outputId": "06b0191f-1dcd-416e-f0e3-01393bb73164"
      },
      "source": [
        "x_traincnn.shape, x_testcnn.shape"
      ],
      "execution_count": null,
      "outputs": [
        {
          "output_type": "execute_result",
          "data": {
            "text/plain": [
              "((3518, 40, 1), (1734, 40, 1))"
            ]
          },
          "metadata": {
            "tags": []
          },
          "execution_count": 5
        }
      ]
    },
    {
      "cell_type": "code",
      "metadata": {
        "id": "LgYdhmGJB4ur",
        "colab_type": "code",
        "colab": {
          "base_uri": "https://localhost:8080/",
          "height": 35
        },
        "outputId": "7e07341f-fbad-474c-fa50-b88991b23ebe"
      },
      "source": [
        "import keras\n",
        "import numpy as np\n",
        "import matplotlib.pyplot as plt\n",
        "import tensorflow as tf\n",
        "from keras.preprocessing import sequence\n",
        "from keras.models import Sequential\n",
        "from keras.layers import Dense, Embedding\n",
        "from keras.utils import to_categorical\n",
        "from keras.layers import Input, Flatten, Dropout, Activation\n",
        "from keras.layers import Conv1D, MaxPooling1D\n",
        "from keras.models import Model\n",
        "from keras.callbacks import ModelCheckpoint\n",
        "\n",
        "model = Sequential()\n",
        "\n",
        "model.add(Conv1D(64, 5,padding='same',\n",
        "                 input_shape=(40,1)))\n",
        "model.add(Activation('relu'))\n",
        "model.add(Dropout(0.1))\n",
        "model.add(MaxPooling1D(pool_size=(4)))\n",
        "model.add(Conv1D(128, 5,padding='same',))\n",
        "model.add(Activation('relu'))\n",
        "model.add(Dropout(0.1))\n",
        "model.add(MaxPooling1D(pool_size=(4)))\n",
        "model.add(Conv1D(256, 5,padding='same',))\n",
        "model.add(Activation('relu'))\n",
        "model.add(Dropout(0.1))\n",
        "model.add(Flatten())\n",
        "model.add(Dense(8))\n",
        "model.add(Activation('softmax'))\n",
        "opt = keras.optimizers.rmsprop(lr=0.00005, rho=0.9, epsilon=1e-07, decay=0.0)"
      ],
      "execution_count": null,
      "outputs": [
        {
          "output_type": "stream",
          "text": [
            "Using TensorFlow backend.\n"
          ],
          "name": "stderr"
        }
      ]
    },
    {
      "cell_type": "code",
      "metadata": {
        "id": "ImZFafVANMP_",
        "colab_type": "code",
        "colab": {
          "base_uri": "https://localhost:8080/",
          "height": 657
        },
        "outputId": "d03e9f1d-9bd0-4a99-f9be-cf9b889d679a"
      },
      "source": [
        "model.summary()"
      ],
      "execution_count": null,
      "outputs": [
        {
          "output_type": "stream",
          "text": [
            "Model: \"sequential_1\"\n",
            "_________________________________________________________________\n",
            "Layer (type)                 Output Shape              Param #   \n",
            "=================================================================\n",
            "conv1d_1 (Conv1D)            (None, 40, 64)            384       \n",
            "_________________________________________________________________\n",
            "activation_1 (Activation)    (None, 40, 64)            0         \n",
            "_________________________________________________________________\n",
            "dropout_1 (Dropout)          (None, 40, 64)            0         \n",
            "_________________________________________________________________\n",
            "max_pooling1d_1 (MaxPooling1 (None, 10, 64)            0         \n",
            "_________________________________________________________________\n",
            "conv1d_2 (Conv1D)            (None, 10, 128)           41088     \n",
            "_________________________________________________________________\n",
            "activation_2 (Activation)    (None, 10, 128)           0         \n",
            "_________________________________________________________________\n",
            "dropout_2 (Dropout)          (None, 10, 128)           0         \n",
            "_________________________________________________________________\n",
            "max_pooling1d_2 (MaxPooling1 (None, 2, 128)            0         \n",
            "_________________________________________________________________\n",
            "conv1d_3 (Conv1D)            (None, 2, 256)            164096    \n",
            "_________________________________________________________________\n",
            "activation_3 (Activation)    (None, 2, 256)            0         \n",
            "_________________________________________________________________\n",
            "dropout_3 (Dropout)          (None, 2, 256)            0         \n",
            "_________________________________________________________________\n",
            "flatten_1 (Flatten)          (None, 512)               0         \n",
            "_________________________________________________________________\n",
            "dense_1 (Dense)              (None, 8)                 4104      \n",
            "_________________________________________________________________\n",
            "activation_4 (Activation)    (None, 8)                 0         \n",
            "=================================================================\n",
            "Total params: 209,672\n",
            "Trainable params: 209,672\n",
            "Non-trainable params: 0\n",
            "_________________________________________________________________\n"
          ],
          "name": "stdout"
        }
      ]
    },
    {
      "cell_type": "code",
      "metadata": {
        "id": "s8LuQtKzON7i",
        "colab_type": "code",
        "colab": {}
      },
      "source": [
        "model.compile(loss='sparse_categorical_crossentropy',\n",
        "              optimizer=opt,\n",
        "              metrics=['accuracy'])"
      ],
      "execution_count": null,
      "outputs": []
    },
    {
      "cell_type": "code",
      "metadata": {
        "id": "cQKYfMONOow7",
        "colab_type": "code",
        "colab": {
          "base_uri": "https://localhost:8080/",
          "height": 1000
        },
        "outputId": "6fc8e1ad-5271-4f86-f238-fee2045ade1e"
      },
      "source": [
        "cnnhistory=model.fit(x_traincnn, y_train, batch_size=16, epochs=200, validation_data=(x_testcnn, y_test))"
      ],
      "execution_count": null,
      "outputs": [
        {
          "output_type": "stream",
          "text": [
            "Train on 3518 samples, validate on 1734 samples\n",
            "Epoch 1/200\n",
            "3518/3518 [==============================] - 4s 1ms/step - loss: 3.4102 - accuracy: 0.1848 - val_loss: 1.8985 - val_accuracy: 0.3610\n",
            "Epoch 2/200\n",
            "3518/3518 [==============================] - 4s 1ms/step - loss: 2.2503 - accuracy: 0.3110 - val_loss: 1.4561 - val_accuracy: 0.5127\n",
            "Epoch 3/200\n",
            "3518/3518 [==============================] - 4s 1ms/step - loss: 1.8465 - accuracy: 0.4073 - val_loss: 1.4126 - val_accuracy: 0.5283\n",
            "Epoch 4/200\n",
            "3518/3518 [==============================] - 4s 1ms/step - loss: 1.6013 - accuracy: 0.4687 - val_loss: 1.2565 - val_accuracy: 0.5577\n",
            "Epoch 5/200\n",
            "3518/3518 [==============================] - 4s 1ms/step - loss: 1.4437 - accuracy: 0.5122 - val_loss: 1.2132 - val_accuracy: 0.5686\n",
            "Epoch 6/200\n",
            "3518/3518 [==============================] - 4s 1ms/step - loss: 1.3279 - accuracy: 0.5389 - val_loss: 1.1017 - val_accuracy: 0.6136\n",
            "Epoch 7/200\n",
            "3518/3518 [==============================] - 4s 1ms/step - loss: 1.2669 - accuracy: 0.5620 - val_loss: 1.0511 - val_accuracy: 0.6557\n",
            "Epoch 8/200\n",
            "3518/3518 [==============================] - 4s 1ms/step - loss: 1.1955 - accuracy: 0.5790 - val_loss: 0.9943 - val_accuracy: 0.6494\n",
            "Epoch 9/200\n",
            "3518/3518 [==============================] - 4s 1ms/step - loss: 1.1468 - accuracy: 0.5893 - val_loss: 0.9513 - val_accuracy: 0.6736\n",
            "Epoch 10/200\n",
            "3518/3518 [==============================] - 4s 1ms/step - loss: 1.0948 - accuracy: 0.6174 - val_loss: 0.9724 - val_accuracy: 0.6482\n",
            "Epoch 11/200\n",
            "3518/3518 [==============================] - 4s 1ms/step - loss: 1.0643 - accuracy: 0.6248 - val_loss: 0.9280 - val_accuracy: 0.6551\n",
            "Epoch 12/200\n",
            "3518/3518 [==============================] - 4s 1ms/step - loss: 1.0331 - accuracy: 0.6293 - val_loss: 0.8843 - val_accuracy: 0.6880\n",
            "Epoch 13/200\n",
            "3518/3518 [==============================] - 4s 1ms/step - loss: 0.9942 - accuracy: 0.6342 - val_loss: 0.8565 - val_accuracy: 0.7070\n",
            "Epoch 14/200\n",
            "3518/3518 [==============================] - 4s 1ms/step - loss: 0.9810 - accuracy: 0.6396 - val_loss: 0.8485 - val_accuracy: 0.6932\n",
            "Epoch 15/200\n",
            "3518/3518 [==============================] - 4s 1ms/step - loss: 0.9676 - accuracy: 0.6470 - val_loss: 0.8289 - val_accuracy: 0.7134\n",
            "Epoch 16/200\n",
            "3518/3518 [==============================] - 4s 1ms/step - loss: 0.9260 - accuracy: 0.6592 - val_loss: 0.8168 - val_accuracy: 0.7042\n",
            "Epoch 17/200\n",
            "3518/3518 [==============================] - 4s 1ms/step - loss: 0.9187 - accuracy: 0.6677 - val_loss: 0.8041 - val_accuracy: 0.7301\n",
            "Epoch 18/200\n",
            "3518/3518 [==============================] - 4s 1ms/step - loss: 0.8856 - accuracy: 0.6691 - val_loss: 0.7983 - val_accuracy: 0.7030\n",
            "Epoch 19/200\n",
            "3518/3518 [==============================] - 4s 1ms/step - loss: 0.8818 - accuracy: 0.6734 - val_loss: 0.7894 - val_accuracy: 0.7128\n",
            "Epoch 20/200\n",
            "3518/3518 [==============================] - 4s 1ms/step - loss: 0.8681 - accuracy: 0.6762 - val_loss: 0.7678 - val_accuracy: 0.7232\n",
            "Epoch 21/200\n",
            "3518/3518 [==============================] - 4s 1ms/step - loss: 0.8524 - accuracy: 0.6828 - val_loss: 0.7858 - val_accuracy: 0.7030\n",
            "Epoch 22/200\n",
            "3518/3518 [==============================] - 4s 1ms/step - loss: 0.8458 - accuracy: 0.6805 - val_loss: 0.7415 - val_accuracy: 0.7284\n",
            "Epoch 23/200\n",
            "3518/3518 [==============================] - 4s 1ms/step - loss: 0.8329 - accuracy: 0.6825 - val_loss: 0.7353 - val_accuracy: 0.7445\n",
            "Epoch 24/200\n",
            "3518/3518 [==============================] - 4s 1ms/step - loss: 0.8061 - accuracy: 0.7007 - val_loss: 0.7341 - val_accuracy: 0.7341\n",
            "Epoch 25/200\n",
            "3518/3518 [==============================] - 4s 1ms/step - loss: 0.7971 - accuracy: 0.7055 - val_loss: 0.7264 - val_accuracy: 0.7295\n",
            "Epoch 26/200\n",
            "3518/3518 [==============================] - 4s 1ms/step - loss: 0.7879 - accuracy: 0.7041 - val_loss: 0.6922 - val_accuracy: 0.7595\n",
            "Epoch 27/200\n",
            "3518/3518 [==============================] - 4s 1ms/step - loss: 0.7802 - accuracy: 0.7138 - val_loss: 0.6993 - val_accuracy: 0.7509\n",
            "Epoch 28/200\n",
            "3518/3518 [==============================] - 4s 1ms/step - loss: 0.7555 - accuracy: 0.7189 - val_loss: 0.7035 - val_accuracy: 0.7382\n",
            "Epoch 29/200\n",
            "3518/3518 [==============================] - 4s 1ms/step - loss: 0.7548 - accuracy: 0.7223 - val_loss: 0.7083 - val_accuracy: 0.7370\n",
            "Epoch 30/200\n",
            "3518/3518 [==============================] - 4s 1ms/step - loss: 0.7606 - accuracy: 0.7126 - val_loss: 0.6965 - val_accuracy: 0.7434\n",
            "Epoch 31/200\n",
            "3518/3518 [==============================] - 4s 1ms/step - loss: 0.7404 - accuracy: 0.7223 - val_loss: 0.6665 - val_accuracy: 0.7682\n",
            "Epoch 32/200\n",
            "3518/3518 [==============================] - 4s 1ms/step - loss: 0.7357 - accuracy: 0.7288 - val_loss: 0.6739 - val_accuracy: 0.7532\n",
            "Epoch 33/200\n",
            "3518/3518 [==============================] - 4s 1ms/step - loss: 0.7282 - accuracy: 0.7280 - val_loss: 0.6587 - val_accuracy: 0.7555\n",
            "Epoch 34/200\n",
            "3518/3518 [==============================] - 4s 1ms/step - loss: 0.7206 - accuracy: 0.7302 - val_loss: 0.6559 - val_accuracy: 0.7647\n",
            "Epoch 35/200\n",
            "3518/3518 [==============================] - 4s 1ms/step - loss: 0.7125 - accuracy: 0.7402 - val_loss: 0.6419 - val_accuracy: 0.7705\n",
            "Epoch 36/200\n",
            "3518/3518 [==============================] - 4s 1ms/step - loss: 0.7025 - accuracy: 0.7425 - val_loss: 0.6475 - val_accuracy: 0.7589\n",
            "Epoch 37/200\n",
            "3518/3518 [==============================] - 4s 1ms/step - loss: 0.7023 - accuracy: 0.7447 - val_loss: 0.6266 - val_accuracy: 0.7641\n",
            "Epoch 38/200\n",
            "3518/3518 [==============================] - 4s 1ms/step - loss: 0.6784 - accuracy: 0.7402 - val_loss: 0.6454 - val_accuracy: 0.7670\n",
            "Epoch 39/200\n",
            "3518/3518 [==============================] - 4s 1ms/step - loss: 0.6800 - accuracy: 0.7453 - val_loss: 0.6645 - val_accuracy: 0.7468\n",
            "Epoch 40/200\n",
            "3518/3518 [==============================] - 4s 1ms/step - loss: 0.6834 - accuracy: 0.7493 - val_loss: 0.6199 - val_accuracy: 0.7797\n",
            "Epoch 41/200\n",
            "3518/3518 [==============================] - 4s 1ms/step - loss: 0.6686 - accuracy: 0.7538 - val_loss: 0.6227 - val_accuracy: 0.7722\n",
            "Epoch 42/200\n",
            "3518/3518 [==============================] - 4s 1ms/step - loss: 0.6564 - accuracy: 0.7609 - val_loss: 0.6068 - val_accuracy: 0.7837\n",
            "Epoch 43/200\n",
            "3518/3518 [==============================] - 4s 1ms/step - loss: 0.6637 - accuracy: 0.7541 - val_loss: 0.6003 - val_accuracy: 0.7849\n",
            "Epoch 44/200\n",
            "3518/3518 [==============================] - 4s 1ms/step - loss: 0.6544 - accuracy: 0.7544 - val_loss: 0.6117 - val_accuracy: 0.7722\n",
            "Epoch 45/200\n",
            "3518/3518 [==============================] - 4s 1ms/step - loss: 0.6467 - accuracy: 0.7530 - val_loss: 0.6069 - val_accuracy: 0.7739\n",
            "Epoch 46/200\n",
            "3518/3518 [==============================] - 4s 1ms/step - loss: 0.6390 - accuracy: 0.7590 - val_loss: 0.5959 - val_accuracy: 0.7791\n",
            "Epoch 47/200\n",
            "3518/3518 [==============================] - 4s 1ms/step - loss: 0.6398 - accuracy: 0.7612 - val_loss: 0.6056 - val_accuracy: 0.7832\n",
            "Epoch 48/200\n",
            "3518/3518 [==============================] - 4s 1ms/step - loss: 0.6341 - accuracy: 0.7607 - val_loss: 0.5879 - val_accuracy: 0.7953\n",
            "Epoch 49/200\n",
            "3518/3518 [==============================] - 4s 1ms/step - loss: 0.6302 - accuracy: 0.7689 - val_loss: 0.5790 - val_accuracy: 0.7907\n",
            "Epoch 50/200\n",
            "3518/3518 [==============================] - 4s 1ms/step - loss: 0.6185 - accuracy: 0.7638 - val_loss: 0.5820 - val_accuracy: 0.7935\n",
            "Epoch 51/200\n",
            "3518/3518 [==============================] - 4s 1ms/step - loss: 0.6044 - accuracy: 0.7760 - val_loss: 0.5716 - val_accuracy: 0.7947\n",
            "Epoch 52/200\n",
            "3518/3518 [==============================] - 4s 1ms/step - loss: 0.6106 - accuracy: 0.7715 - val_loss: 0.5917 - val_accuracy: 0.7809\n",
            "Epoch 53/200\n",
            "3518/3518 [==============================] - 4s 1ms/step - loss: 0.6096 - accuracy: 0.7749 - val_loss: 0.5686 - val_accuracy: 0.8022\n",
            "Epoch 54/200\n",
            "3518/3518 [==============================] - 4s 1ms/step - loss: 0.6032 - accuracy: 0.7763 - val_loss: 0.5641 - val_accuracy: 0.7964\n",
            "Epoch 55/200\n",
            "3518/3518 [==============================] - 4s 1ms/step - loss: 0.5913 - accuracy: 0.7825 - val_loss: 0.5700 - val_accuracy: 0.7941\n",
            "Epoch 56/200\n",
            "3518/3518 [==============================] - 4s 1ms/step - loss: 0.5896 - accuracy: 0.7749 - val_loss: 0.5676 - val_accuracy: 0.7976\n",
            "Epoch 57/200\n",
            "3518/3518 [==============================] - 4s 1ms/step - loss: 0.5899 - accuracy: 0.7845 - val_loss: 0.5647 - val_accuracy: 0.7976\n",
            "Epoch 58/200\n",
            "3518/3518 [==============================] - 4s 1ms/step - loss: 0.5824 - accuracy: 0.7789 - val_loss: 0.5538 - val_accuracy: 0.8039\n",
            "Epoch 59/200\n",
            "3518/3518 [==============================] - 4s 1ms/step - loss: 0.5788 - accuracy: 0.7823 - val_loss: 0.5508 - val_accuracy: 0.8033\n",
            "Epoch 60/200\n",
            "3518/3518 [==============================] - 4s 1ms/step - loss: 0.5731 - accuracy: 0.7905 - val_loss: 0.5589 - val_accuracy: 0.7970\n",
            "Epoch 61/200\n",
            "3518/3518 [==============================] - 4s 1ms/step - loss: 0.5724 - accuracy: 0.7894 - val_loss: 0.5633 - val_accuracy: 0.7895\n",
            "Epoch 62/200\n",
            "3518/3518 [==============================] - 4s 1ms/step - loss: 0.5706 - accuracy: 0.7897 - val_loss: 0.5441 - val_accuracy: 0.7999\n",
            "Epoch 63/200\n",
            "3518/3518 [==============================] - 4s 1ms/step - loss: 0.5615 - accuracy: 0.7860 - val_loss: 0.5564 - val_accuracy: 0.7982\n",
            "Epoch 64/200\n",
            "3518/3518 [==============================] - 4s 1ms/step - loss: 0.5529 - accuracy: 0.7985 - val_loss: 0.5502 - val_accuracy: 0.8028\n",
            "Epoch 65/200\n",
            "3518/3518 [==============================] - 4s 1ms/step - loss: 0.5601 - accuracy: 0.7899 - val_loss: 0.5589 - val_accuracy: 0.7987\n",
            "Epoch 66/200\n",
            "3518/3518 [==============================] - 4s 1ms/step - loss: 0.5587 - accuracy: 0.8005 - val_loss: 0.5307 - val_accuracy: 0.8108\n",
            "Epoch 67/200\n",
            "3518/3518 [==============================] - 4s 1ms/step - loss: 0.5465 - accuracy: 0.8024 - val_loss: 0.5296 - val_accuracy: 0.8091\n",
            "Epoch 68/200\n",
            "3518/3518 [==============================] - 4s 1ms/step - loss: 0.5443 - accuracy: 0.7959 - val_loss: 0.5362 - val_accuracy: 0.8068\n",
            "Epoch 69/200\n",
            "3518/3518 [==============================] - 4s 1ms/step - loss: 0.5548 - accuracy: 0.7905 - val_loss: 0.5435 - val_accuracy: 0.8033\n",
            "Epoch 70/200\n",
            "3518/3518 [==============================] - 4s 1ms/step - loss: 0.5326 - accuracy: 0.8064 - val_loss: 0.5240 - val_accuracy: 0.8108\n",
            "Epoch 71/200\n",
            "3518/3518 [==============================] - 4s 1ms/step - loss: 0.5263 - accuracy: 0.8098 - val_loss: 0.5403 - val_accuracy: 0.8080\n",
            "Epoch 72/200\n",
            "3518/3518 [==============================] - 4s 1ms/step - loss: 0.5303 - accuracy: 0.8050 - val_loss: 0.5155 - val_accuracy: 0.8160\n",
            "Epoch 73/200\n",
            "3518/3518 [==============================] - 4s 1ms/step - loss: 0.5241 - accuracy: 0.8076 - val_loss: 0.5253 - val_accuracy: 0.8114\n",
            "Epoch 74/200\n",
            "3518/3518 [==============================] - 4s 1ms/step - loss: 0.5240 - accuracy: 0.8056 - val_loss: 0.5219 - val_accuracy: 0.8149\n",
            "Epoch 75/200\n",
            "3518/3518 [==============================] - 4s 1ms/step - loss: 0.5289 - accuracy: 0.8064 - val_loss: 0.5148 - val_accuracy: 0.8189\n",
            "Epoch 76/200\n",
            "3518/3518 [==============================] - 4s 1ms/step - loss: 0.5111 - accuracy: 0.8144 - val_loss: 0.5246 - val_accuracy: 0.8016\n",
            "Epoch 77/200\n",
            "3518/3518 [==============================] - 4s 1ms/step - loss: 0.5016 - accuracy: 0.8181 - val_loss: 0.5139 - val_accuracy: 0.8103\n",
            "Epoch 78/200\n",
            "3518/3518 [==============================] - 4s 1ms/step - loss: 0.5130 - accuracy: 0.8167 - val_loss: 0.5236 - val_accuracy: 0.8120\n",
            "Epoch 79/200\n",
            "3518/3518 [==============================] - 4s 1ms/step - loss: 0.5182 - accuracy: 0.8096 - val_loss: 0.5174 - val_accuracy: 0.8131\n",
            "Epoch 80/200\n",
            "3518/3518 [==============================] - 4s 1ms/step - loss: 0.5006 - accuracy: 0.8127 - val_loss: 0.5004 - val_accuracy: 0.8258\n",
            "Epoch 81/200\n",
            "3518/3518 [==============================] - 4s 1ms/step - loss: 0.4993 - accuracy: 0.8186 - val_loss: 0.5141 - val_accuracy: 0.8137\n",
            "Epoch 82/200\n",
            "3518/3518 [==============================] - 4s 1ms/step - loss: 0.5037 - accuracy: 0.8141 - val_loss: 0.5027 - val_accuracy: 0.8195\n",
            "Epoch 83/200\n",
            "3518/3518 [==============================] - 4s 1ms/step - loss: 0.4926 - accuracy: 0.8206 - val_loss: 0.5014 - val_accuracy: 0.8189\n",
            "Epoch 84/200\n",
            "3518/3518 [==============================] - 4s 1ms/step - loss: 0.4946 - accuracy: 0.8147 - val_loss: 0.5052 - val_accuracy: 0.8247\n",
            "Epoch 85/200\n",
            "3518/3518 [==============================] - 4s 1ms/step - loss: 0.4841 - accuracy: 0.8221 - val_loss: 0.4867 - val_accuracy: 0.8264\n",
            "Epoch 86/200\n",
            "3518/3518 [==============================] - 4s 1ms/step - loss: 0.4933 - accuracy: 0.8186 - val_loss: 0.5022 - val_accuracy: 0.8149\n",
            "Epoch 87/200\n",
            "3518/3518 [==============================] - 4s 1ms/step - loss: 0.4874 - accuracy: 0.8260 - val_loss: 0.5016 - val_accuracy: 0.8206\n",
            "Epoch 88/200\n",
            "3518/3518 [==============================] - 4s 1ms/step - loss: 0.4917 - accuracy: 0.8221 - val_loss: 0.5036 - val_accuracy: 0.8178\n",
            "Epoch 89/200\n",
            "3518/3518 [==============================] - 4s 1ms/step - loss: 0.4796 - accuracy: 0.8252 - val_loss: 0.5007 - val_accuracy: 0.8230\n",
            "Epoch 90/200\n",
            "3518/3518 [==============================] - 4s 1ms/step - loss: 0.4715 - accuracy: 0.8246 - val_loss: 0.5000 - val_accuracy: 0.8183\n",
            "Epoch 91/200\n",
            "3518/3518 [==============================] - 4s 1ms/step - loss: 0.4755 - accuracy: 0.8238 - val_loss: 0.5266 - val_accuracy: 0.8155\n",
            "Epoch 92/200\n",
            "3518/3518 [==============================] - 4s 1ms/step - loss: 0.4683 - accuracy: 0.8258 - val_loss: 0.5068 - val_accuracy: 0.8172\n",
            "Epoch 93/200\n",
            "3518/3518 [==============================] - 4s 1ms/step - loss: 0.4599 - accuracy: 0.8275 - val_loss: 0.4872 - val_accuracy: 0.8287\n",
            "Epoch 94/200\n",
            "3518/3518 [==============================] - 4s 1ms/step - loss: 0.4646 - accuracy: 0.8283 - val_loss: 0.4990 - val_accuracy: 0.8189\n",
            "Epoch 95/200\n",
            "3518/3518 [==============================] - 4s 1ms/step - loss: 0.4680 - accuracy: 0.8272 - val_loss: 0.4860 - val_accuracy: 0.8316\n",
            "Epoch 96/200\n",
            "3518/3518 [==============================] - 4s 1ms/step - loss: 0.4769 - accuracy: 0.8223 - val_loss: 0.4941 - val_accuracy: 0.8264\n",
            "Epoch 97/200\n",
            "3518/3518 [==============================] - 4s 1ms/step - loss: 0.4570 - accuracy: 0.8312 - val_loss: 0.4776 - val_accuracy: 0.8328\n",
            "Epoch 98/200\n",
            "3518/3518 [==============================] - 4s 1ms/step - loss: 0.4599 - accuracy: 0.8380 - val_loss: 0.4913 - val_accuracy: 0.8131\n",
            "Epoch 99/200\n",
            "3518/3518 [==============================] - 4s 1ms/step - loss: 0.4633 - accuracy: 0.8289 - val_loss: 0.4918 - val_accuracy: 0.8189\n",
            "Epoch 100/200\n",
            "3518/3518 [==============================] - 4s 1ms/step - loss: 0.4471 - accuracy: 0.8366 - val_loss: 0.4819 - val_accuracy: 0.8281\n",
            "Epoch 101/200\n",
            "3518/3518 [==============================] - 4s 1ms/step - loss: 0.4441 - accuracy: 0.8354 - val_loss: 0.4764 - val_accuracy: 0.8281\n",
            "Epoch 102/200\n",
            "3518/3518 [==============================] - 4s 1ms/step - loss: 0.4505 - accuracy: 0.8354 - val_loss: 0.5071 - val_accuracy: 0.8195\n",
            "Epoch 103/200\n",
            "3518/3518 [==============================] - 4s 1ms/step - loss: 0.4502 - accuracy: 0.8363 - val_loss: 0.4857 - val_accuracy: 0.8195\n",
            "Epoch 104/200\n",
            "3518/3518 [==============================] - 4s 1ms/step - loss: 0.4349 - accuracy: 0.8351 - val_loss: 0.4737 - val_accuracy: 0.8322\n",
            "Epoch 105/200\n",
            "3518/3518 [==============================] - 4s 1ms/step - loss: 0.4415 - accuracy: 0.8371 - val_loss: 0.4777 - val_accuracy: 0.8287\n",
            "Epoch 106/200\n",
            "3518/3518 [==============================] - 4s 1ms/step - loss: 0.4374 - accuracy: 0.8403 - val_loss: 0.4859 - val_accuracy: 0.8264\n",
            "Epoch 107/200\n",
            "3518/3518 [==============================] - 4s 1ms/step - loss: 0.4412 - accuracy: 0.8411 - val_loss: 0.4696 - val_accuracy: 0.8299\n",
            "Epoch 108/200\n",
            "3518/3518 [==============================] - 4s 1ms/step - loss: 0.4279 - accuracy: 0.8454 - val_loss: 0.4790 - val_accuracy: 0.8206\n",
            "Epoch 109/200\n",
            "3518/3518 [==============================] - 4s 1ms/step - loss: 0.4375 - accuracy: 0.8425 - val_loss: 0.4775 - val_accuracy: 0.8322\n",
            "Epoch 110/200\n",
            "3518/3518 [==============================] - 4s 1ms/step - loss: 0.4342 - accuracy: 0.8403 - val_loss: 0.4614 - val_accuracy: 0.8385\n",
            "Epoch 111/200\n",
            "3518/3518 [==============================] - 4s 1ms/step - loss: 0.4262 - accuracy: 0.8457 - val_loss: 0.4790 - val_accuracy: 0.8328\n",
            "Epoch 112/200\n",
            "3518/3518 [==============================] - 4s 1ms/step - loss: 0.4268 - accuracy: 0.8422 - val_loss: 0.4630 - val_accuracy: 0.8374\n",
            "Epoch 113/200\n",
            "3518/3518 [==============================] - 4s 1ms/step - loss: 0.4208 - accuracy: 0.8445 - val_loss: 0.4802 - val_accuracy: 0.8287\n",
            "Epoch 114/200\n",
            "3518/3518 [==============================] - 4s 1ms/step - loss: 0.4208 - accuracy: 0.8448 - val_loss: 0.4642 - val_accuracy: 0.8374\n",
            "Epoch 115/200\n",
            "3518/3518 [==============================] - 4s 1ms/step - loss: 0.4168 - accuracy: 0.8485 - val_loss: 0.4644 - val_accuracy: 0.8304\n",
            "Epoch 116/200\n",
            "3518/3518 [==============================] - 4s 1ms/step - loss: 0.4156 - accuracy: 0.8488 - val_loss: 0.4561 - val_accuracy: 0.8385\n",
            "Epoch 117/200\n",
            "3518/3518 [==============================] - 4s 1ms/step - loss: 0.4078 - accuracy: 0.8502 - val_loss: 0.4610 - val_accuracy: 0.8356\n",
            "Epoch 118/200\n",
            "3518/3518 [==============================] - 4s 1ms/step - loss: 0.4122 - accuracy: 0.8442 - val_loss: 0.4496 - val_accuracy: 0.8374\n",
            "Epoch 119/200\n",
            "3518/3518 [==============================] - 4s 1ms/step - loss: 0.4090 - accuracy: 0.8493 - val_loss: 0.4646 - val_accuracy: 0.8374\n",
            "Epoch 120/200\n",
            "3518/3518 [==============================] - 4s 1ms/step - loss: 0.4095 - accuracy: 0.8491 - val_loss: 0.4738 - val_accuracy: 0.8304\n",
            "Epoch 121/200\n",
            "3518/3518 [==============================] - 4s 1ms/step - loss: 0.4043 - accuracy: 0.8530 - val_loss: 0.4555 - val_accuracy: 0.8351\n",
            "Epoch 122/200\n",
            "3518/3518 [==============================] - 4s 1ms/step - loss: 0.3968 - accuracy: 0.8550 - val_loss: 0.4541 - val_accuracy: 0.8362\n",
            "Epoch 123/200\n",
            "3518/3518 [==============================] - 4s 1ms/step - loss: 0.4107 - accuracy: 0.8545 - val_loss: 0.4551 - val_accuracy: 0.8374\n",
            "Epoch 124/200\n",
            "3518/3518 [==============================] - 4s 1ms/step - loss: 0.3967 - accuracy: 0.8556 - val_loss: 0.4570 - val_accuracy: 0.8397\n",
            "Epoch 125/200\n",
            "3518/3518 [==============================] - 4s 1ms/step - loss: 0.4031 - accuracy: 0.8519 - val_loss: 0.4481 - val_accuracy: 0.8391\n",
            "Epoch 126/200\n",
            "3518/3518 [==============================] - 4s 1ms/step - loss: 0.3949 - accuracy: 0.8493 - val_loss: 0.4706 - val_accuracy: 0.8258\n",
            "Epoch 127/200\n",
            "3518/3518 [==============================] - 4s 1ms/step - loss: 0.3945 - accuracy: 0.8587 - val_loss: 0.4469 - val_accuracy: 0.8379\n",
            "Epoch 128/200\n",
            "3518/3518 [==============================] - 4s 1ms/step - loss: 0.3901 - accuracy: 0.8556 - val_loss: 0.4468 - val_accuracy: 0.8403\n",
            "Epoch 129/200\n",
            "3518/3518 [==============================] - 4s 1ms/step - loss: 0.3860 - accuracy: 0.8556 - val_loss: 0.4567 - val_accuracy: 0.8379\n",
            "Epoch 130/200\n",
            "3518/3518 [==============================] - 4s 1ms/step - loss: 0.3818 - accuracy: 0.8627 - val_loss: 0.4394 - val_accuracy: 0.8426\n",
            "Epoch 131/200\n",
            "3518/3518 [==============================] - 4s 1ms/step - loss: 0.3780 - accuracy: 0.8627 - val_loss: 0.4432 - val_accuracy: 0.8431\n",
            "Epoch 132/200\n",
            "3518/3518 [==============================] - 4s 1ms/step - loss: 0.3871 - accuracy: 0.8653 - val_loss: 0.4569 - val_accuracy: 0.8339\n",
            "Epoch 133/200\n",
            "3518/3518 [==============================] - 4s 1ms/step - loss: 0.3743 - accuracy: 0.8627 - val_loss: 0.4695 - val_accuracy: 0.8339\n",
            "Epoch 134/200\n",
            "3518/3518 [==============================] - 4s 1ms/step - loss: 0.3753 - accuracy: 0.8590 - val_loss: 0.4476 - val_accuracy: 0.8420\n",
            "Epoch 135/200\n",
            "3518/3518 [==============================] - 4s 1ms/step - loss: 0.3784 - accuracy: 0.8624 - val_loss: 0.4501 - val_accuracy: 0.8414\n",
            "Epoch 136/200\n",
            "3518/3518 [==============================] - 4s 1ms/step - loss: 0.3757 - accuracy: 0.8616 - val_loss: 0.4565 - val_accuracy: 0.8368\n",
            "Epoch 137/200\n",
            "3518/3518 [==============================] - 4s 1ms/step - loss: 0.3678 - accuracy: 0.8664 - val_loss: 0.4477 - val_accuracy: 0.8437\n",
            "Epoch 138/200\n",
            "3518/3518 [==============================] - 4s 1ms/step - loss: 0.3658 - accuracy: 0.8678 - val_loss: 0.4342 - val_accuracy: 0.8518\n",
            "Epoch 139/200\n",
            "3518/3518 [==============================] - 4s 1ms/step - loss: 0.3620 - accuracy: 0.8698 - val_loss: 0.4455 - val_accuracy: 0.8379\n",
            "Epoch 140/200\n",
            "3518/3518 [==============================] - 4s 1ms/step - loss: 0.3663 - accuracy: 0.8624 - val_loss: 0.4600 - val_accuracy: 0.8374\n",
            "Epoch 141/200\n",
            "3518/3518 [==============================] - 4s 1ms/step - loss: 0.3667 - accuracy: 0.8616 - val_loss: 0.4502 - val_accuracy: 0.8437\n",
            "Epoch 142/200\n",
            "3518/3518 [==============================] - 4s 1ms/step - loss: 0.3628 - accuracy: 0.8644 - val_loss: 0.4544 - val_accuracy: 0.8431\n",
            "Epoch 143/200\n",
            "3518/3518 [==============================] - 4s 1ms/step - loss: 0.3580 - accuracy: 0.8692 - val_loss: 0.4386 - val_accuracy: 0.8403\n",
            "Epoch 144/200\n",
            "3518/3518 [==============================] - 4s 1ms/step - loss: 0.3646 - accuracy: 0.8707 - val_loss: 0.4627 - val_accuracy: 0.8356\n",
            "Epoch 145/200\n",
            "3518/3518 [==============================] - 4s 1ms/step - loss: 0.3609 - accuracy: 0.8704 - val_loss: 0.4398 - val_accuracy: 0.8472\n",
            "Epoch 146/200\n",
            "3518/3518 [==============================] - 4s 1ms/step - loss: 0.3447 - accuracy: 0.8764 - val_loss: 0.4363 - val_accuracy: 0.8443\n",
            "Epoch 147/200\n",
            "3518/3518 [==============================] - 4s 1ms/step - loss: 0.3465 - accuracy: 0.8752 - val_loss: 0.4791 - val_accuracy: 0.8351\n",
            "Epoch 148/200\n",
            "3518/3518 [==============================] - 4s 1ms/step - loss: 0.3465 - accuracy: 0.8687 - val_loss: 0.4405 - val_accuracy: 0.8420\n",
            "Epoch 149/200\n",
            "3518/3518 [==============================] - 4s 1ms/step - loss: 0.3507 - accuracy: 0.8707 - val_loss: 0.4261 - val_accuracy: 0.8483\n",
            "Epoch 150/200\n",
            "3518/3518 [==============================] - 4s 1ms/step - loss: 0.3505 - accuracy: 0.8735 - val_loss: 0.4305 - val_accuracy: 0.8489\n",
            "Epoch 151/200\n",
            "3518/3518 [==============================] - 4s 1ms/step - loss: 0.3646 - accuracy: 0.8638 - val_loss: 0.4307 - val_accuracy: 0.8518\n",
            "Epoch 152/200\n",
            "3518/3518 [==============================] - 4s 1ms/step - loss: 0.3462 - accuracy: 0.8732 - val_loss: 0.4337 - val_accuracy: 0.8512\n",
            "Epoch 153/200\n",
            "3518/3518 [==============================] - 4s 1ms/step - loss: 0.3456 - accuracy: 0.8764 - val_loss: 0.4360 - val_accuracy: 0.8483\n",
            "Epoch 154/200\n",
            "3518/3518 [==============================] - 4s 1ms/step - loss: 0.3413 - accuracy: 0.8758 - val_loss: 0.4445 - val_accuracy: 0.8374\n",
            "Epoch 155/200\n",
            "3518/3518 [==============================] - 4s 1ms/step - loss: 0.3440 - accuracy: 0.8732 - val_loss: 0.4439 - val_accuracy: 0.8443\n",
            "Epoch 156/200\n",
            "3518/3518 [==============================] - 4s 1ms/step - loss: 0.3484 - accuracy: 0.8755 - val_loss: 0.4424 - val_accuracy: 0.8420\n",
            "Epoch 157/200\n",
            "3518/3518 [==============================] - 4s 1ms/step - loss: 0.3335 - accuracy: 0.8778 - val_loss: 0.4370 - val_accuracy: 0.8420\n",
            "Epoch 158/200\n",
            "3518/3518 [==============================] - 4s 1ms/step - loss: 0.3349 - accuracy: 0.8721 - val_loss: 0.4405 - val_accuracy: 0.8454\n",
            "Epoch 159/200\n",
            "3518/3518 [==============================] - 4s 1ms/step - loss: 0.3411 - accuracy: 0.8778 - val_loss: 0.4329 - val_accuracy: 0.8524\n",
            "Epoch 160/200\n",
            "3518/3518 [==============================] - 4s 1ms/step - loss: 0.3449 - accuracy: 0.8712 - val_loss: 0.4312 - val_accuracy: 0.8489\n",
            "Epoch 161/200\n",
            "3518/3518 [==============================] - 4s 1ms/step - loss: 0.3237 - accuracy: 0.8803 - val_loss: 0.4586 - val_accuracy: 0.8414\n",
            "Epoch 162/200\n",
            "3518/3518 [==============================] - 4s 1ms/step - loss: 0.3238 - accuracy: 0.8869 - val_loss: 0.4542 - val_accuracy: 0.8437\n",
            "Epoch 163/200\n",
            "3518/3518 [==============================] - 4s 1ms/step - loss: 0.3278 - accuracy: 0.8815 - val_loss: 0.4601 - val_accuracy: 0.8374\n",
            "Epoch 164/200\n",
            "3518/3518 [==============================] - 4s 1ms/step - loss: 0.3182 - accuracy: 0.8829 - val_loss: 0.4326 - val_accuracy: 0.8483\n",
            "Epoch 165/200\n",
            "3518/3518 [==============================] - 4s 1ms/step - loss: 0.3238 - accuracy: 0.8843 - val_loss: 0.4450 - val_accuracy: 0.8489\n",
            "Epoch 166/200\n",
            "3518/3518 [==============================] - 4s 1ms/step - loss: 0.3177 - accuracy: 0.8846 - val_loss: 0.4299 - val_accuracy: 0.8501\n",
            "Epoch 167/200\n",
            "3518/3518 [==============================] - 4s 1ms/step - loss: 0.3154 - accuracy: 0.8812 - val_loss: 0.4337 - val_accuracy: 0.8535\n",
            "Epoch 168/200\n",
            "3518/3518 [==============================] - 4s 1ms/step - loss: 0.3290 - accuracy: 0.8755 - val_loss: 0.4335 - val_accuracy: 0.8495\n",
            "Epoch 169/200\n",
            "3518/3518 [==============================] - 4s 1ms/step - loss: 0.3111 - accuracy: 0.8832 - val_loss: 0.4265 - val_accuracy: 0.8483\n",
            "Epoch 170/200\n",
            "3518/3518 [==============================] - 4s 1ms/step - loss: 0.3158 - accuracy: 0.8846 - val_loss: 0.4337 - val_accuracy: 0.8472\n",
            "Epoch 171/200\n",
            "3518/3518 [==============================] - 4s 1ms/step - loss: 0.3186 - accuracy: 0.8843 - val_loss: 0.4444 - val_accuracy: 0.8483\n",
            "Epoch 172/200\n",
            "3518/3518 [==============================] - 4s 1ms/step - loss: 0.3009 - accuracy: 0.8846 - val_loss: 0.4530 - val_accuracy: 0.8489\n",
            "Epoch 173/200\n",
            "3518/3518 [==============================] - 4s 1ms/step - loss: 0.3104 - accuracy: 0.8900 - val_loss: 0.4394 - val_accuracy: 0.8524\n",
            "Epoch 174/200\n",
            "3518/3518 [==============================] - 4s 1ms/step - loss: 0.3043 - accuracy: 0.8835 - val_loss: 0.4289 - val_accuracy: 0.8472\n",
            "Epoch 175/200\n",
            "3518/3518 [==============================] - 4s 1ms/step - loss: 0.3058 - accuracy: 0.8894 - val_loss: 0.4270 - val_accuracy: 0.8524\n",
            "Epoch 176/200\n",
            "3518/3518 [==============================] - 4s 1ms/step - loss: 0.3173 - accuracy: 0.8849 - val_loss: 0.4403 - val_accuracy: 0.8512\n",
            "Epoch 177/200\n",
            "3518/3518 [==============================] - 4s 1ms/step - loss: 0.2994 - accuracy: 0.8960 - val_loss: 0.4321 - val_accuracy: 0.8489\n",
            "Epoch 178/200\n",
            "3518/3518 [==============================] - 4s 1ms/step - loss: 0.3090 - accuracy: 0.8860 - val_loss: 0.4270 - val_accuracy: 0.8587\n",
            "Epoch 179/200\n",
            "3518/3518 [==============================] - 4s 1ms/step - loss: 0.2966 - accuracy: 0.8914 - val_loss: 0.4244 - val_accuracy: 0.8518\n",
            "Epoch 180/200\n",
            "3518/3518 [==============================] - 4s 1ms/step - loss: 0.2960 - accuracy: 0.8957 - val_loss: 0.4342 - val_accuracy: 0.8501\n",
            "Epoch 181/200\n",
            "3518/3518 [==============================] - 4s 1ms/step - loss: 0.3101 - accuracy: 0.8857 - val_loss: 0.4191 - val_accuracy: 0.8587\n",
            "Epoch 182/200\n",
            "3518/3518 [==============================] - 4s 1ms/step - loss: 0.3140 - accuracy: 0.8854 - val_loss: 0.4264 - val_accuracy: 0.8564\n",
            "Epoch 183/200\n",
            "3518/3518 [==============================] - 4s 1ms/step - loss: 0.2922 - accuracy: 0.8985 - val_loss: 0.4370 - val_accuracy: 0.8466\n",
            "Epoch 184/200\n",
            "3518/3518 [==============================] - 4s 1ms/step - loss: 0.2985 - accuracy: 0.8880 - val_loss: 0.4268 - val_accuracy: 0.8518\n",
            "Epoch 185/200\n",
            "3518/3518 [==============================] - 4s 1ms/step - loss: 0.2892 - accuracy: 0.8883 - val_loss: 0.4331 - val_accuracy: 0.8483\n",
            "Epoch 186/200\n",
            "3518/3518 [==============================] - 4s 1ms/step - loss: 0.2945 - accuracy: 0.8960 - val_loss: 0.4395 - val_accuracy: 0.8495\n",
            "Epoch 187/200\n",
            "3518/3518 [==============================] - 4s 1ms/step - loss: 0.2950 - accuracy: 0.8928 - val_loss: 0.4224 - val_accuracy: 0.8558\n",
            "Epoch 188/200\n",
            "3518/3518 [==============================] - 4s 1ms/step - loss: 0.2939 - accuracy: 0.8937 - val_loss: 0.4268 - val_accuracy: 0.8501\n",
            "Epoch 189/200\n",
            "3518/3518 [==============================] - 4s 1ms/step - loss: 0.2886 - accuracy: 0.8940 - val_loss: 0.4284 - val_accuracy: 0.8576\n",
            "Epoch 190/200\n",
            "3518/3518 [==============================] - 4s 1ms/step - loss: 0.2932 - accuracy: 0.8948 - val_loss: 0.4224 - val_accuracy: 0.8558\n",
            "Epoch 191/200\n",
            "3518/3518 [==============================] - 4s 1ms/step - loss: 0.2902 - accuracy: 0.8937 - val_loss: 0.4295 - val_accuracy: 0.8581\n",
            "Epoch 192/200\n",
            "3518/3518 [==============================] - 4s 1ms/step - loss: 0.2963 - accuracy: 0.8900 - val_loss: 0.4200 - val_accuracy: 0.8518\n",
            "Epoch 193/200\n",
            "3518/3518 [==============================] - 4s 1ms/step - loss: 0.2838 - accuracy: 0.8960 - val_loss: 0.4124 - val_accuracy: 0.8547\n",
            "Epoch 194/200\n",
            "3518/3518 [==============================] - 4s 1ms/step - loss: 0.2789 - accuracy: 0.8985 - val_loss: 0.4200 - val_accuracy: 0.8466\n",
            "Epoch 195/200\n",
            "3518/3518 [==============================] - 4s 1ms/step - loss: 0.2860 - accuracy: 0.8937 - val_loss: 0.4145 - val_accuracy: 0.8535\n",
            "Epoch 196/200\n",
            "3518/3518 [==============================] - 4s 1ms/step - loss: 0.2770 - accuracy: 0.9008 - val_loss: 0.4315 - val_accuracy: 0.8512\n",
            "Epoch 197/200\n",
            "3518/3518 [==============================] - 4s 1ms/step - loss: 0.2808 - accuracy: 0.8962 - val_loss: 0.4285 - val_accuracy: 0.8547\n",
            "Epoch 198/200\n",
            "3518/3518 [==============================] - 4s 1ms/step - loss: 0.2751 - accuracy: 0.8988 - val_loss: 0.4522 - val_accuracy: 0.8495\n",
            "Epoch 199/200\n",
            "3518/3518 [==============================] - 4s 1ms/step - loss: 0.2762 - accuracy: 0.8997 - val_loss: 0.4226 - val_accuracy: 0.8501\n",
            "Epoch 200/200\n",
            "3518/3518 [==============================] - 4s 1ms/step - loss: 0.2579 - accuracy: 0.9039 - val_loss: 0.4277 - val_accuracy: 0.8547\n"
          ],
          "name": "stdout"
        }
      ]
    },
    {
      "cell_type": "code",
      "metadata": {
        "id": "WEomk3HUOwSz",
        "colab_type": "code",
        "colab": {
          "base_uri": "https://localhost:8080/",
          "height": 295
        },
        "outputId": "1cde7e1d-64a5-4c41-b1ef-b68f08982e49"
      },
      "source": [
        "plt.plot(cnnhistory.history['loss'])\n",
        "plt.plot(cnnhistory.history['val_loss'])\n",
        "plt.title('model loss')\n",
        "plt.ylabel('loss')\n",
        "plt.xlabel('epoch')\n",
        "plt.legend(['train', 'test'], loc='upper left')\n",
        "plt.show()"
      ],
      "execution_count": null,
      "outputs": [
        {
          "output_type": "display_data",
          "data": {
            "image/png": "[encoded data removed]",
            "text/plain": [
              "<Figure size 432x288 with 1 Axes>"
            ]
          },
          "metadata": {
            "tags": [],
            "needs_background": "light"
          }
        }
      ]
    },
    {
      "cell_type": "code",
      "metadata": {
        "id": "n4UNnOn80S_3",
        "colab_type": "code",
        "colab": {
          "base_uri": "https://localhost:8080/",
          "height": 295
        },
        "outputId": "37e334a6-5adf-4fbb-c478-070c5501c5b3"
      },
      "source": [
        "plt.plot(cnnhistory.history['accuracy'])\n",
        "plt.plot(cnnhistory.history['val_accuracy'])\n",
        "plt.title('model accuracy')\n",
        "plt.ylabel('accuracy')\n",
        "plt.xlabel('epoch')\n",
        "plt.legend(['train', 'test'], loc='upper left')\n",
        "plt.show()"
      ],
      "execution_count": null,
      "outputs": [
        {
          "output_type": "display_data",
          "data": {
            "image/png": "[encoded data removed]",
            "text/plain": [
              "<Figure size 432x288 with 1 Axes>"
            ]
          },
          "metadata": {
            "tags": [],
            "needs_background": "light"
          }
        }
      ]
    },
    {
      "cell_type": "code",
      "metadata": {
        "id": "CSR0-VCVPO81",
        "colab_type": "code",
        "colab": {}
      },
      "source": [
        "predictions = model.predict_classes(x_testcnn)"
      ],
      "execution_count": null,
      "outputs": []
    },
    {
      "cell_type": "code",
      "metadata": {
        "id": "7uKNuzd6PVZi",
        "colab_type": "code",
        "colab": {
          "base_uri": "https://localhost:8080/",
          "height": 35
        },
        "outputId": "44bc4bc2-057e-47a5-ee3e-8cef839277d3"
      },
      "source": [
        "predictions"
      ],
      "execution_count": null,
      "outputs": [
        {
          "output_type": "execute_result",
          "data": {
            "text/plain": [
              "array([3, 4, 3, ..., 2, 3, 5])"
            ]
          },
          "metadata": {
            "tags": []
          },
          "execution_count": 13
        }
      ]
    },
    {
      "cell_type": "code",
      "metadata": {
        "id": "GhfXlBdJQFr9",
        "colab_type": "code",
        "colab": {
          "base_uri": "https://localhost:8080/",
          "height": 35
        },
        "outputId": "500b7540-7641-41eb-fba1-e7dd0a49c475"
      },
      "source": [
        "y_test"
      ],
      "execution_count": null,
      "outputs": [
        {
          "output_type": "execute_result",
          "data": {
            "text/plain": [
              "array([3, 4, 3, ..., 2, 3, 5])"
            ]
          },
          "metadata": {
            "tags": []
          },
          "execution_count": 14
        }
      ]
    },
    {
      "cell_type": "code",
      "metadata": {
        "id": "FC1heRemQJHA",
        "colab_type": "code",
        "colab": {}
      },
      "source": [
        "new_Ytest = y_test.astype(int)"
      ],
      "execution_count": null,
      "outputs": []
    },
    {
      "cell_type": "code",
      "metadata": {
        "id": "65ZqfKMHQNBY",
        "colab_type": "code",
        "colab": {
          "base_uri": "https://localhost:8080/",
          "height": 35
        },
        "outputId": "d1f51eb3-ab89-492a-adc3-0d770a342096"
      },
      "source": [
        "new_Ytest"
      ],
      "execution_count": null,
      "outputs": [
        {
          "output_type": "execute_result",
          "data": {
            "text/plain": [
              "array([3, 4, 3, ..., 2, 3, 5])"
            ]
          },
          "metadata": {
            "tags": []
          },
          "execution_count": 16
        }
      ]
    },
    {
      "cell_type": "code",
      "metadata": {
        "id": "wK2gsnN-QO1C",
        "colab_type": "code",
        "colab": {
          "base_uri": "https://localhost:8080/",
          "height": 284
        },
        "outputId": "fdd8cf81-901f-42a9-ac51-0cbe2fbad867"
      },
      "source": [
        "from sklearn.metrics import classification_report\n",
        "report = classification_report(new_Ytest, predictions)\n",
        "print(report)"
      ],
      "execution_count": null,
      "outputs": [
        {
          "output_type": "stream",
          "text": [
            "              precision    recall  f1-score   support\n",
            "\n",
            "           0       0.88      0.91      0.89       190\n",
            "           1       0.77      0.76      0.76       117\n",
            "           2       0.90      0.84      0.87       266\n",
            "           3       0.80      0.86      0.83       246\n",
            "           4       0.89      0.88      0.88       265\n",
            "           5       0.88      0.80      0.84       246\n",
            "           6       0.81      0.92      0.86       202\n",
            "           7       0.88      0.85      0.86       202\n",
            "\n",
            "    accuracy                           0.85      1734\n",
            "   macro avg       0.85      0.85      0.85      1734\n",
            "weighted avg       0.86      0.85      0.85      1734\n",
            "\n"
          ],
          "name": "stdout"
        }
      ]
    },
    {
      "cell_type": "code",
      "metadata": {
        "id": "XipKuFRTQSFj",
        "colab_type": "code",
        "colab": {
          "base_uri": "https://localhost:8080/",
          "height": 159
        },
        "outputId": "c55049fe-4461-4899-e70a-87555479dd4c"
      },
      "source": [
        "from sklearn.metrics import confusion_matrix\n",
        "matrix = confusion_matrix(new_Ytest, predictions)\n",
        "print (matrix)\n",
        "\n",
        "# 0 = neutral, 1 = calm, 2 = happy, 3 = sad, 4 = angry, 5 = fearful, 6 = disgust, 7 = surprised"
      ],
      "execution_count": null,
      "outputs": [
        {
          "output_type": "stream",
          "text": [
            "[[172   5   1   8   0   0   1   3]\n",
            " [  6  89   5   9   0   0   6   2]\n",
            " [  4   6 223   5   8   8   3   9]\n",
            " [  7   7   3 212   3   8   4   2]\n",
            " [  1   2   4   2 232   8  15   1]\n",
            " [  0   1   6  23  10 196   8   2]\n",
            " [  1   2   0   2   5   1 186   5]\n",
            " [  5   4   6   4   2   1   8 172]]\n"
          ],
          "name": "stdout"
        }
      ]
    },
    {
      "cell_type": "code",
      "metadata": {
        "id": "ORm3pz9NQdlW",
        "colab_type": "code",
        "colab": {
          "base_uri": "https://localhost:8080/",
          "height": 35
        },
        "outputId": "a50537b9-f833-4d66-cafb-eec3f3fd219a"
      },
      "source": [
        "model.save('testing10_model.h5')\n",
        "print(\"MODEL SAVED\")"
      ],
      "execution_count": null,
      "outputs": [
        {
          "output_type": "stream",
          "text": [
            "MODEL SAVED\n"
          ],
          "name": "stdout"
        }
      ]
    },
    {
      "cell_type": "code",
      "metadata": {
        "id": "6aFHzp7PQvMJ",
        "colab_type": "code",
        "colab": {
          "base_uri": "https://localhost:8080/",
          "height": 657
        },
        "outputId": "fcd82c73-683a-4dde-c866-aafaa285fa66"
      },
      "source": [
        "new_model=keras.models.load_model('testing10_model.h5')\n",
        "new_model.summary()"
      ],
      "execution_count": null,
      "outputs": [
        {
          "output_type": "stream",
          "text": [
            "Model: \"sequential_1\"\n",
            "_________________________________________________________________\n",
            "Layer (type)                 Output Shape              Param #   \n",
            "=================================================================\n",
            "conv1d_1 (Conv1D)            (None, 40, 64)            384       \n",
            "_________________________________________________________________\n",
            "activation_1 (Activation)    (None, 40, 64)            0         \n",
            "_________________________________________________________________\n",
            "dropout_1 (Dropout)          (None, 40, 64)            0         \n",
            "_________________________________________________________________\n",
            "max_pooling1d_1 (MaxPooling1 (None, 10, 64)            0         \n",
            "_________________________________________________________________\n",
            "conv1d_2 (Conv1D)            (None, 10, 128)           41088     \n",
            "_________________________________________________________________\n",
            "activation_2 (Activation)    (None, 10, 128)           0         \n",
            "_________________________________________________________________\n",
            "dropout_2 (Dropout)          (None, 10, 128)           0         \n",
            "_________________________________________________________________\n",
            "max_pooling1d_2 (MaxPooling1 (None, 2, 128)            0         \n",
            "_________________________________________________________________\n",
            "conv1d_3 (Conv1D)            (None, 2, 256)            164096    \n",
            "_________________________________________________________________\n",
            "activation_3 (Activation)    (None, 2, 256)            0         \n",
            "_________________________________________________________________\n",
            "dropout_3 (Dropout)          (None, 2, 256)            0         \n",
            "_________________________________________________________________\n",
            "flatten_1 (Flatten)          (None, 512)               0         \n",
            "_________________________________________________________________\n",
            "dense_1 (Dense)              (None, 8)                 4104      \n",
            "_________________________________________________________________\n",
            "activation_4 (Activation)    (None, 8)                 0         \n",
            "=================================================================\n",
            "Total params: 209,672\n",
            "Trainable params: 209,672\n",
            "Non-trainable params: 0\n",
            "_________________________________________________________________\n"
          ],
          "name": "stdout"
        }
      ]
    },
    {
      "cell_type": "code",
      "metadata": {
        "id": "whzXUxB5Q06g",
        "colab_type": "code",
        "colab": {
          "base_uri": "https://localhost:8080/",
          "height": 52
        },
        "outputId": "95bca73d-1171-4b97-c46f-2c7c74e5587b"
      },
      "source": [
        "loss, acc = new_model.evaluate(x_testcnn, y_test)\n",
        "print(\"Restored model, accuracy: {:5.2f}%\".format(100*acc))"
      ],
      "execution_count": null,
      "outputs": [
        {
          "output_type": "stream",
          "text": [
            "1734/1734 [==============================] - 0s 95us/step\n",
            "Restored model, accuracy: 85.47%\n"
          ],
          "name": "stdout"
        }
      ]
    },
    {
      "cell_type": "code",
      "metadata": {
        "id": "r6n31dxyQ5Sp",
        "colab_type": "code",
        "colab": {}
      },
      "source": [
        ""
      ],
      "execution_count": null,
      "outputs": []
    }
  ]
}